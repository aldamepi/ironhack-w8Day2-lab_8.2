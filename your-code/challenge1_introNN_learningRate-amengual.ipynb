{
 "cells": [
  {
   "cell_type": "markdown",
   "metadata": {},
   "source": [
    "# Import Libraries"
   ]
  },
  {
   "cell_type": "code",
   "execution_count": 5,
   "metadata": {},
   "outputs": [],
   "source": [
    "import pandas as pd\n",
    "import numpy as np\n",
    "import matplotlib.pyplot as plt\n",
    "import seaborn as sns\n"
   ]
  },
  {
   "cell_type": "code",
   "execution_count": 3,
   "metadata": {},
   "outputs": [],
   "source": [
    "%matplotlib inline"
   ]
  },
  {
   "cell_type": "code",
   "execution_count": 4,
   "metadata": {},
   "outputs": [],
   "source": [
    "pd.set_option('display.max_columns', None)"
   ]
  },
  {
   "cell_type": "code",
   "execution_count": null,
   "metadata": {},
   "outputs": [],
   "source": [
    "from sklearn.preprocessing import OneHotEncoder"
   ]
  },
  {
   "cell_type": "code",
   "execution_count": 27,
   "metadata": {},
   "outputs": [],
   "source": [
    "from sklearn.model_selection import train_test_split\n"
   ]
  },
  {
   "cell_type": "code",
   "execution_count": 36,
   "metadata": {},
   "outputs": [],
   "source": [
    "import tensorflow as tf # Library to construct neural newtorks. Low level library. Created by google\n",
    "from tensorflow import keras # High level library to handle tensorflow.\n",
    "from tensorflow.keras.layers import Flatten, Dense, Dropout # Types of layers to use in our neural network."
   ]
  },
  {
   "cell_type": "code",
   "execution_count": 39,
   "metadata": {},
   "outputs": [],
   "source": [
    "# Callbacks are Keras tools to kepp track of the training progress\n",
    "\n",
    "from tensorflow.keras.callbacks import EarlyStopping # This callback allows you to stop the training \n",
    "# if the validation error increases. That prevents overfitting.\n",
    "from tensorflow.keras.callbacks import ModelCheckpoint # This callback allows you to save the model.\n"
   ]
  },
  {
   "cell_type": "code",
   "execution_count": 171,
   "metadata": {},
   "outputs": [],
   "source": [
    "from sklearn.metrics import cohen_kappa_score, classification_report "
   ]
  },
  {
   "cell_type": "code",
   "execution_count": null,
   "metadata": {},
   "outputs": [],
   "source": []
  },
  {
   "cell_type": "code",
   "execution_count": null,
   "metadata": {},
   "outputs": [],
   "source": []
  },
  {
   "cell_type": "code",
   "execution_count": null,
   "metadata": {},
   "outputs": [],
   "source": []
  },
  {
   "cell_type": "markdown",
   "metadata": {},
   "source": [
    "# Functions"
   ]
  },
  {
   "cell_type": "code",
   "execution_count": 65,
   "metadata": {},
   "outputs": [],
   "source": [
    "def plot_metric(history, metric):\n",
    "    train_metrics = history.history[metric] # Get the error metric for the TRAIN set\n",
    "    val_metrics = history.history['val_'+metric] # Get the error metric for the VALIDATION set\n",
    "    epochs = range(1, len(train_metrics) + 1) # range(1,6) -> 1,2,3,4,5\n",
    "    plt.plot(epochs, train_metrics)\n",
    "    plt.plot(epochs, val_metrics)\n",
    "    plt.title('Training and validation '+ metric)\n",
    "    plt.xlabel(\"Epochs\")\n",
    "    plt.ylabel(metric)\n",
    "    plt.yscale('log')\n",
    "    plt.legend([\"train_\"+metric, 'val_'+metric])\n",
    "    plt.show()"
   ]
  },
  {
   "cell_type": "code",
   "execution_count": 69,
   "metadata": {},
   "outputs": [],
   "source": [
    "def model_performance_class(y_train, y_pred_train, y_test, y_pred_test):\n",
    "\n",
    "    # from sklearn.metrics import cohen_kappa_score, classification_report \n",
    "\n",
    "\n",
    "    print(\"Results obtained for the TRAIN SET\")\n",
    "    print(\"==================================\")\n",
    "    print(\"The Cohen's Kappa is: {:.2f}\".format(cohen_kappa_score(y_train, y_pred_train)))\n",
    "    print(classification_report(y_train, y_pred_train))\n",
    "    print(\"==================================\")\n",
    "    print(\"Results obtained for the TEST SET\")\n",
    "    print(\"The Cohen's Kappa is: {:.2f}\".format(cohen_kappa_score(y_test, y_pred_test)))\n",
    "    print(classification_report(y_test, y_pred_test))\n"
   ]
  },
  {
   "cell_type": "code",
   "execution_count": null,
   "metadata": {},
   "outputs": [],
   "source": []
  },
  {
   "cell_type": "code",
   "execution_count": null,
   "metadata": {},
   "outputs": [],
   "source": []
  },
  {
   "cell_type": "code",
   "execution_count": null,
   "metadata": {},
   "outputs": [],
   "source": []
  },
  {
   "cell_type": "markdown",
   "metadata": {},
   "source": [
    "# Challenge 1 - Tic Tac Toe\n",
    "\n",
    "In this lab you will perform deep learning analysis on a dataset of playing [Tic Tac Toe](https://en.wikipedia.org/wiki/Tic-tac-toe).\n",
    "\n",
    "There are 9 grids in Tic Tac Toe that are coded as the following picture shows:\n",
    "\n",
    "![Tic Tac Toe Grids](tttboard.jpg)\n",
    "\n",
    "In the first 9 columns of the dataset you can find which marks (`x` or `o`) exist in the grids. If there is no mark in a certain grid, it is labeled as `b`. The last column is `class` which tells you whether Player X (who always moves first in Tic Tac Toe) wins in this configuration. Note that when `class` has the value `False`, it means either Player O wins the game or it ends up as a draw."
   ]
  },
  {
   "cell_type": "code",
   "execution_count": null,
   "metadata": {},
   "outputs": [],
   "source": [
    "# change class to xWins"
   ]
  },
  {
   "cell_type": "markdown",
   "metadata": {},
   "source": [
    "Follow the steps suggested below to conduct a neural network analysis using Tensorflow and Keras. You will build a deep learning model to predict whether Player X wins the game or not.\n",
    "\n",
    "## Step 1: Data Engineering\n",
    "\n",
    "This dataset is almost in the ready-to-use state so you do not need to worry about missing values and so on. Still, some simple data engineering is needed.\n",
    "\n",
    "1. Read `tic-tac-toe.csv` into a dataframe.\n",
    "1. Inspect the dataset. Determine if the dataset is reliable by eyeballing the data.\n",
    "1. Convert the categorical values to numeric in all columns.\n",
    "1. Separate the inputs and output.\n",
    "1. Normalize the input data."
   ]
  },
  {
   "cell_type": "markdown",
   "metadata": {},
   "source": [
    "### Read tic-tac-toe.csv into a dataframe."
   ]
  },
  {
   "cell_type": "code",
   "execution_count": 6,
   "metadata": {},
   "outputs": [
    {
     "data": {
      "text/html": [
       "<div>\n",
       "<style scoped>\n",
       "    .dataframe tbody tr th:only-of-type {\n",
       "        vertical-align: middle;\n",
       "    }\n",
       "\n",
       "    .dataframe tbody tr th {\n",
       "        vertical-align: top;\n",
       "    }\n",
       "\n",
       "    .dataframe thead th {\n",
       "        text-align: right;\n",
       "    }\n",
       "</style>\n",
       "<table border=\"1\" class=\"dataframe\">\n",
       "  <thead>\n",
       "    <tr style=\"text-align: right;\">\n",
       "      <th></th>\n",
       "      <th>TL</th>\n",
       "      <th>TM</th>\n",
       "      <th>TR</th>\n",
       "      <th>ML</th>\n",
       "      <th>MM</th>\n",
       "      <th>MR</th>\n",
       "      <th>BL</th>\n",
       "      <th>BM</th>\n",
       "      <th>BR</th>\n",
       "      <th>class</th>\n",
       "    </tr>\n",
       "  </thead>\n",
       "  <tbody>\n",
       "    <tr>\n",
       "      <th>0</th>\n",
       "      <td>x</td>\n",
       "      <td>x</td>\n",
       "      <td>x</td>\n",
       "      <td>x</td>\n",
       "      <td>o</td>\n",
       "      <td>o</td>\n",
       "      <td>x</td>\n",
       "      <td>o</td>\n",
       "      <td>o</td>\n",
       "      <td>True</td>\n",
       "    </tr>\n",
       "    <tr>\n",
       "      <th>1</th>\n",
       "      <td>x</td>\n",
       "      <td>x</td>\n",
       "      <td>x</td>\n",
       "      <td>x</td>\n",
       "      <td>o</td>\n",
       "      <td>o</td>\n",
       "      <td>o</td>\n",
       "      <td>x</td>\n",
       "      <td>o</td>\n",
       "      <td>True</td>\n",
       "    </tr>\n",
       "    <tr>\n",
       "      <th>2</th>\n",
       "      <td>x</td>\n",
       "      <td>x</td>\n",
       "      <td>x</td>\n",
       "      <td>x</td>\n",
       "      <td>o</td>\n",
       "      <td>o</td>\n",
       "      <td>o</td>\n",
       "      <td>o</td>\n",
       "      <td>x</td>\n",
       "      <td>True</td>\n",
       "    </tr>\n",
       "    <tr>\n",
       "      <th>3</th>\n",
       "      <td>x</td>\n",
       "      <td>x</td>\n",
       "      <td>x</td>\n",
       "      <td>x</td>\n",
       "      <td>o</td>\n",
       "      <td>o</td>\n",
       "      <td>o</td>\n",
       "      <td>b</td>\n",
       "      <td>b</td>\n",
       "      <td>True</td>\n",
       "    </tr>\n",
       "    <tr>\n",
       "      <th>4</th>\n",
       "      <td>x</td>\n",
       "      <td>x</td>\n",
       "      <td>x</td>\n",
       "      <td>x</td>\n",
       "      <td>o</td>\n",
       "      <td>o</td>\n",
       "      <td>b</td>\n",
       "      <td>o</td>\n",
       "      <td>b</td>\n",
       "      <td>True</td>\n",
       "    </tr>\n",
       "    <tr>\n",
       "      <th>...</th>\n",
       "      <td>...</td>\n",
       "      <td>...</td>\n",
       "      <td>...</td>\n",
       "      <td>...</td>\n",
       "      <td>...</td>\n",
       "      <td>...</td>\n",
       "      <td>...</td>\n",
       "      <td>...</td>\n",
       "      <td>...</td>\n",
       "      <td>...</td>\n",
       "    </tr>\n",
       "    <tr>\n",
       "      <th>953</th>\n",
       "      <td>o</td>\n",
       "      <td>x</td>\n",
       "      <td>x</td>\n",
       "      <td>x</td>\n",
       "      <td>o</td>\n",
       "      <td>o</td>\n",
       "      <td>o</td>\n",
       "      <td>x</td>\n",
       "      <td>x</td>\n",
       "      <td>False</td>\n",
       "    </tr>\n",
       "    <tr>\n",
       "      <th>954</th>\n",
       "      <td>o</td>\n",
       "      <td>x</td>\n",
       "      <td>o</td>\n",
       "      <td>x</td>\n",
       "      <td>x</td>\n",
       "      <td>o</td>\n",
       "      <td>x</td>\n",
       "      <td>o</td>\n",
       "      <td>x</td>\n",
       "      <td>False</td>\n",
       "    </tr>\n",
       "    <tr>\n",
       "      <th>955</th>\n",
       "      <td>o</td>\n",
       "      <td>x</td>\n",
       "      <td>o</td>\n",
       "      <td>x</td>\n",
       "      <td>o</td>\n",
       "      <td>x</td>\n",
       "      <td>x</td>\n",
       "      <td>o</td>\n",
       "      <td>x</td>\n",
       "      <td>False</td>\n",
       "    </tr>\n",
       "    <tr>\n",
       "      <th>956</th>\n",
       "      <td>o</td>\n",
       "      <td>x</td>\n",
       "      <td>o</td>\n",
       "      <td>o</td>\n",
       "      <td>x</td>\n",
       "      <td>x</td>\n",
       "      <td>x</td>\n",
       "      <td>o</td>\n",
       "      <td>x</td>\n",
       "      <td>False</td>\n",
       "    </tr>\n",
       "    <tr>\n",
       "      <th>957</th>\n",
       "      <td>o</td>\n",
       "      <td>o</td>\n",
       "      <td>x</td>\n",
       "      <td>x</td>\n",
       "      <td>x</td>\n",
       "      <td>o</td>\n",
       "      <td>o</td>\n",
       "      <td>x</td>\n",
       "      <td>x</td>\n",
       "      <td>False</td>\n",
       "    </tr>\n",
       "  </tbody>\n",
       "</table>\n",
       "<p>958 rows × 10 columns</p>\n",
       "</div>"
      ],
      "text/plain": [
       "    TL TM TR ML MM MR BL BM BR  class\n",
       "0    x  x  x  x  o  o  x  o  o   True\n",
       "1    x  x  x  x  o  o  o  x  o   True\n",
       "2    x  x  x  x  o  o  o  o  x   True\n",
       "3    x  x  x  x  o  o  o  b  b   True\n",
       "4    x  x  x  x  o  o  b  o  b   True\n",
       "..  .. .. .. .. .. .. .. .. ..    ...\n",
       "953  o  x  x  x  o  o  o  x  x  False\n",
       "954  o  x  o  x  x  o  x  o  x  False\n",
       "955  o  x  o  x  o  x  x  o  x  False\n",
       "956  o  x  o  o  x  x  x  o  x  False\n",
       "957  o  o  x  x  x  o  o  x  x  False\n",
       "\n",
       "[958 rows x 10 columns]"
      ]
     },
     "execution_count": 6,
     "metadata": {},
     "output_type": "execute_result"
    }
   ],
   "source": [
    "ttt = pd.read_csv('../data/tic-tac-toe.csv')\n",
    "ttt"
   ]
  },
  {
   "cell_type": "code",
   "execution_count": 7,
   "metadata": {},
   "outputs": [
    {
     "data": {
      "text/html": [
       "<div>\n",
       "<style scoped>\n",
       "    .dataframe tbody tr th:only-of-type {\n",
       "        vertical-align: middle;\n",
       "    }\n",
       "\n",
       "    .dataframe tbody tr th {\n",
       "        vertical-align: top;\n",
       "    }\n",
       "\n",
       "    .dataframe thead th {\n",
       "        text-align: right;\n",
       "    }\n",
       "</style>\n",
       "<table border=\"1\" class=\"dataframe\">\n",
       "  <thead>\n",
       "    <tr style=\"text-align: right;\">\n",
       "      <th></th>\n",
       "      <th>TL</th>\n",
       "      <th>TM</th>\n",
       "      <th>TR</th>\n",
       "      <th>ML</th>\n",
       "      <th>MM</th>\n",
       "      <th>MR</th>\n",
       "      <th>BL</th>\n",
       "      <th>BM</th>\n",
       "      <th>BR</th>\n",
       "      <th>class</th>\n",
       "    </tr>\n",
       "  </thead>\n",
       "  <tbody>\n",
       "    <tr>\n",
       "      <th>0</th>\n",
       "      <td>x</td>\n",
       "      <td>x</td>\n",
       "      <td>x</td>\n",
       "      <td>x</td>\n",
       "      <td>o</td>\n",
       "      <td>o</td>\n",
       "      <td>x</td>\n",
       "      <td>o</td>\n",
       "      <td>o</td>\n",
       "      <td>True</td>\n",
       "    </tr>\n",
       "    <tr>\n",
       "      <th>1</th>\n",
       "      <td>x</td>\n",
       "      <td>x</td>\n",
       "      <td>x</td>\n",
       "      <td>x</td>\n",
       "      <td>o</td>\n",
       "      <td>o</td>\n",
       "      <td>o</td>\n",
       "      <td>x</td>\n",
       "      <td>o</td>\n",
       "      <td>True</td>\n",
       "    </tr>\n",
       "    <tr>\n",
       "      <th>2</th>\n",
       "      <td>x</td>\n",
       "      <td>x</td>\n",
       "      <td>x</td>\n",
       "      <td>x</td>\n",
       "      <td>o</td>\n",
       "      <td>o</td>\n",
       "      <td>o</td>\n",
       "      <td>o</td>\n",
       "      <td>x</td>\n",
       "      <td>True</td>\n",
       "    </tr>\n",
       "    <tr>\n",
       "      <th>3</th>\n",
       "      <td>x</td>\n",
       "      <td>x</td>\n",
       "      <td>x</td>\n",
       "      <td>x</td>\n",
       "      <td>o</td>\n",
       "      <td>o</td>\n",
       "      <td>o</td>\n",
       "      <td>b</td>\n",
       "      <td>b</td>\n",
       "      <td>True</td>\n",
       "    </tr>\n",
       "    <tr>\n",
       "      <th>4</th>\n",
       "      <td>x</td>\n",
       "      <td>x</td>\n",
       "      <td>x</td>\n",
       "      <td>x</td>\n",
       "      <td>o</td>\n",
       "      <td>o</td>\n",
       "      <td>b</td>\n",
       "      <td>o</td>\n",
       "      <td>b</td>\n",
       "      <td>True</td>\n",
       "    </tr>\n",
       "    <tr>\n",
       "      <th>5</th>\n",
       "      <td>x</td>\n",
       "      <td>x</td>\n",
       "      <td>x</td>\n",
       "      <td>x</td>\n",
       "      <td>o</td>\n",
       "      <td>o</td>\n",
       "      <td>b</td>\n",
       "      <td>b</td>\n",
       "      <td>o</td>\n",
       "      <td>True</td>\n",
       "    </tr>\n",
       "    <tr>\n",
       "      <th>6</th>\n",
       "      <td>x</td>\n",
       "      <td>x</td>\n",
       "      <td>x</td>\n",
       "      <td>x</td>\n",
       "      <td>o</td>\n",
       "      <td>b</td>\n",
       "      <td>o</td>\n",
       "      <td>o</td>\n",
       "      <td>b</td>\n",
       "      <td>True</td>\n",
       "    </tr>\n",
       "    <tr>\n",
       "      <th>7</th>\n",
       "      <td>x</td>\n",
       "      <td>x</td>\n",
       "      <td>x</td>\n",
       "      <td>x</td>\n",
       "      <td>o</td>\n",
       "      <td>b</td>\n",
       "      <td>o</td>\n",
       "      <td>b</td>\n",
       "      <td>o</td>\n",
       "      <td>True</td>\n",
       "    </tr>\n",
       "    <tr>\n",
       "      <th>8</th>\n",
       "      <td>x</td>\n",
       "      <td>x</td>\n",
       "      <td>x</td>\n",
       "      <td>x</td>\n",
       "      <td>o</td>\n",
       "      <td>b</td>\n",
       "      <td>b</td>\n",
       "      <td>o</td>\n",
       "      <td>o</td>\n",
       "      <td>True</td>\n",
       "    </tr>\n",
       "    <tr>\n",
       "      <th>9</th>\n",
       "      <td>x</td>\n",
       "      <td>x</td>\n",
       "      <td>x</td>\n",
       "      <td>x</td>\n",
       "      <td>b</td>\n",
       "      <td>o</td>\n",
       "      <td>o</td>\n",
       "      <td>o</td>\n",
       "      <td>b</td>\n",
       "      <td>True</td>\n",
       "    </tr>\n",
       "    <tr>\n",
       "      <th>10</th>\n",
       "      <td>x</td>\n",
       "      <td>x</td>\n",
       "      <td>x</td>\n",
       "      <td>x</td>\n",
       "      <td>b</td>\n",
       "      <td>o</td>\n",
       "      <td>o</td>\n",
       "      <td>b</td>\n",
       "      <td>o</td>\n",
       "      <td>True</td>\n",
       "    </tr>\n",
       "    <tr>\n",
       "      <th>11</th>\n",
       "      <td>x</td>\n",
       "      <td>x</td>\n",
       "      <td>x</td>\n",
       "      <td>x</td>\n",
       "      <td>b</td>\n",
       "      <td>o</td>\n",
       "      <td>b</td>\n",
       "      <td>o</td>\n",
       "      <td>o</td>\n",
       "      <td>True</td>\n",
       "    </tr>\n",
       "    <tr>\n",
       "      <th>12</th>\n",
       "      <td>x</td>\n",
       "      <td>x</td>\n",
       "      <td>x</td>\n",
       "      <td>o</td>\n",
       "      <td>x</td>\n",
       "      <td>o</td>\n",
       "      <td>x</td>\n",
       "      <td>o</td>\n",
       "      <td>o</td>\n",
       "      <td>True</td>\n",
       "    </tr>\n",
       "    <tr>\n",
       "      <th>13</th>\n",
       "      <td>x</td>\n",
       "      <td>x</td>\n",
       "      <td>x</td>\n",
       "      <td>o</td>\n",
       "      <td>x</td>\n",
       "      <td>o</td>\n",
       "      <td>o</td>\n",
       "      <td>x</td>\n",
       "      <td>o</td>\n",
       "      <td>True</td>\n",
       "    </tr>\n",
       "    <tr>\n",
       "      <th>14</th>\n",
       "      <td>x</td>\n",
       "      <td>x</td>\n",
       "      <td>x</td>\n",
       "      <td>o</td>\n",
       "      <td>x</td>\n",
       "      <td>o</td>\n",
       "      <td>o</td>\n",
       "      <td>o</td>\n",
       "      <td>x</td>\n",
       "      <td>True</td>\n",
       "    </tr>\n",
       "    <tr>\n",
       "      <th>15</th>\n",
       "      <td>x</td>\n",
       "      <td>x</td>\n",
       "      <td>x</td>\n",
       "      <td>o</td>\n",
       "      <td>x</td>\n",
       "      <td>o</td>\n",
       "      <td>o</td>\n",
       "      <td>b</td>\n",
       "      <td>b</td>\n",
       "      <td>True</td>\n",
       "    </tr>\n",
       "    <tr>\n",
       "      <th>16</th>\n",
       "      <td>x</td>\n",
       "      <td>x</td>\n",
       "      <td>x</td>\n",
       "      <td>o</td>\n",
       "      <td>x</td>\n",
       "      <td>o</td>\n",
       "      <td>b</td>\n",
       "      <td>o</td>\n",
       "      <td>b</td>\n",
       "      <td>True</td>\n",
       "    </tr>\n",
       "    <tr>\n",
       "      <th>17</th>\n",
       "      <td>x</td>\n",
       "      <td>x</td>\n",
       "      <td>x</td>\n",
       "      <td>o</td>\n",
       "      <td>x</td>\n",
       "      <td>o</td>\n",
       "      <td>b</td>\n",
       "      <td>b</td>\n",
       "      <td>o</td>\n",
       "      <td>True</td>\n",
       "    </tr>\n",
       "    <tr>\n",
       "      <th>18</th>\n",
       "      <td>x</td>\n",
       "      <td>x</td>\n",
       "      <td>x</td>\n",
       "      <td>o</td>\n",
       "      <td>x</td>\n",
       "      <td>b</td>\n",
       "      <td>o</td>\n",
       "      <td>o</td>\n",
       "      <td>b</td>\n",
       "      <td>True</td>\n",
       "    </tr>\n",
       "    <tr>\n",
       "      <th>19</th>\n",
       "      <td>x</td>\n",
       "      <td>x</td>\n",
       "      <td>x</td>\n",
       "      <td>o</td>\n",
       "      <td>x</td>\n",
       "      <td>b</td>\n",
       "      <td>o</td>\n",
       "      <td>b</td>\n",
       "      <td>o</td>\n",
       "      <td>True</td>\n",
       "    </tr>\n",
       "  </tbody>\n",
       "</table>\n",
       "</div>"
      ],
      "text/plain": [
       "   TL TM TR ML MM MR BL BM BR  class\n",
       "0   x  x  x  x  o  o  x  o  o   True\n",
       "1   x  x  x  x  o  o  o  x  o   True\n",
       "2   x  x  x  x  o  o  o  o  x   True\n",
       "3   x  x  x  x  o  o  o  b  b   True\n",
       "4   x  x  x  x  o  o  b  o  b   True\n",
       "5   x  x  x  x  o  o  b  b  o   True\n",
       "6   x  x  x  x  o  b  o  o  b   True\n",
       "7   x  x  x  x  o  b  o  b  o   True\n",
       "8   x  x  x  x  o  b  b  o  o   True\n",
       "9   x  x  x  x  b  o  o  o  b   True\n",
       "10  x  x  x  x  b  o  o  b  o   True\n",
       "11  x  x  x  x  b  o  b  o  o   True\n",
       "12  x  x  x  o  x  o  x  o  o   True\n",
       "13  x  x  x  o  x  o  o  x  o   True\n",
       "14  x  x  x  o  x  o  o  o  x   True\n",
       "15  x  x  x  o  x  o  o  b  b   True\n",
       "16  x  x  x  o  x  o  b  o  b   True\n",
       "17  x  x  x  o  x  o  b  b  o   True\n",
       "18  x  x  x  o  x  b  o  o  b   True\n",
       "19  x  x  x  o  x  b  o  b  o   True"
      ]
     },
     "execution_count": 7,
     "metadata": {},
     "output_type": "execute_result"
    }
   ],
   "source": [
    "ttt.head(20)"
   ]
  },
  {
   "cell_type": "code",
   "execution_count": 10,
   "metadata": {},
   "outputs": [
    {
     "data": {
      "text/html": [
       "<div>\n",
       "<style scoped>\n",
       "    .dataframe tbody tr th:only-of-type {\n",
       "        vertical-align: middle;\n",
       "    }\n",
       "\n",
       "    .dataframe tbody tr th {\n",
       "        vertical-align: top;\n",
       "    }\n",
       "\n",
       "    .dataframe thead th {\n",
       "        text-align: right;\n",
       "    }\n",
       "</style>\n",
       "<table border=\"1\" class=\"dataframe\">\n",
       "  <thead>\n",
       "    <tr style=\"text-align: right;\">\n",
       "      <th></th>\n",
       "      <th>TL</th>\n",
       "      <th>TM</th>\n",
       "      <th>TR</th>\n",
       "      <th>ML</th>\n",
       "      <th>MM</th>\n",
       "      <th>MR</th>\n",
       "      <th>BL</th>\n",
       "      <th>BM</th>\n",
       "      <th>BR</th>\n",
       "      <th>xWins</th>\n",
       "    </tr>\n",
       "  </thead>\n",
       "  <tbody>\n",
       "    <tr>\n",
       "      <th>0</th>\n",
       "      <td>x</td>\n",
       "      <td>x</td>\n",
       "      <td>x</td>\n",
       "      <td>x</td>\n",
       "      <td>o</td>\n",
       "      <td>o</td>\n",
       "      <td>x</td>\n",
       "      <td>o</td>\n",
       "      <td>o</td>\n",
       "      <td>True</td>\n",
       "    </tr>\n",
       "    <tr>\n",
       "      <th>1</th>\n",
       "      <td>x</td>\n",
       "      <td>x</td>\n",
       "      <td>x</td>\n",
       "      <td>x</td>\n",
       "      <td>o</td>\n",
       "      <td>o</td>\n",
       "      <td>o</td>\n",
       "      <td>x</td>\n",
       "      <td>o</td>\n",
       "      <td>True</td>\n",
       "    </tr>\n",
       "    <tr>\n",
       "      <th>2</th>\n",
       "      <td>x</td>\n",
       "      <td>x</td>\n",
       "      <td>x</td>\n",
       "      <td>x</td>\n",
       "      <td>o</td>\n",
       "      <td>o</td>\n",
       "      <td>o</td>\n",
       "      <td>o</td>\n",
       "      <td>x</td>\n",
       "      <td>True</td>\n",
       "    </tr>\n",
       "    <tr>\n",
       "      <th>3</th>\n",
       "      <td>x</td>\n",
       "      <td>x</td>\n",
       "      <td>x</td>\n",
       "      <td>x</td>\n",
       "      <td>o</td>\n",
       "      <td>o</td>\n",
       "      <td>o</td>\n",
       "      <td>b</td>\n",
       "      <td>b</td>\n",
       "      <td>True</td>\n",
       "    </tr>\n",
       "    <tr>\n",
       "      <th>4</th>\n",
       "      <td>x</td>\n",
       "      <td>x</td>\n",
       "      <td>x</td>\n",
       "      <td>x</td>\n",
       "      <td>o</td>\n",
       "      <td>o</td>\n",
       "      <td>b</td>\n",
       "      <td>o</td>\n",
       "      <td>b</td>\n",
       "      <td>True</td>\n",
       "    </tr>\n",
       "  </tbody>\n",
       "</table>\n",
       "</div>"
      ],
      "text/plain": [
       "  TL TM TR ML MM MR BL BM BR  xWins\n",
       "0  x  x  x  x  o  o  x  o  o   True\n",
       "1  x  x  x  x  o  o  o  x  o   True\n",
       "2  x  x  x  x  o  o  o  o  x   True\n",
       "3  x  x  x  x  o  o  o  b  b   True\n",
       "4  x  x  x  x  o  o  b  o  b   True"
      ]
     },
     "execution_count": 10,
     "metadata": {},
     "output_type": "execute_result"
    }
   ],
   "source": [
    "# rename class\n",
    "ttt.rename(columns={'class':'xWins'}, inplace=True)\n",
    "ttt.head()"
   ]
  },
  {
   "cell_type": "code",
   "execution_count": null,
   "metadata": {},
   "outputs": [],
   "source": []
  },
  {
   "cell_type": "markdown",
   "metadata": {},
   "source": [
    "### Inspect the dataset. Determine if the dataset is reliable by eyeballing the data."
   ]
  },
  {
   "cell_type": "code",
   "execution_count": 13,
   "metadata": {},
   "outputs": [
    {
     "name": "stdout",
     "output_type": "stream",
     "text": [
      "x    418\n",
      "o    335\n",
      "b    205\n",
      "Name: TL, dtype: int64\n",
      "x    378\n",
      "o    330\n",
      "b    250\n",
      "Name: TM, dtype: int64\n",
      "x    418\n",
      "o    335\n",
      "b    205\n",
      "Name: TR, dtype: int64\n",
      "x    378\n",
      "o    330\n",
      "b    250\n",
      "Name: ML, dtype: int64\n",
      "x    458\n",
      "o    340\n",
      "b    160\n",
      "Name: MM, dtype: int64\n",
      "x    378\n",
      "o    330\n",
      "b    250\n",
      "Name: MR, dtype: int64\n",
      "x    418\n",
      "o    335\n",
      "b    205\n",
      "Name: BL, dtype: int64\n",
      "x    378\n",
      "o    330\n",
      "b    250\n",
      "Name: BM, dtype: int64\n",
      "x    418\n",
      "o    335\n",
      "b    205\n",
      "Name: BR, dtype: int64\n",
      "True     626\n",
      "False    332\n",
      "Name: xWins, dtype: int64\n"
     ]
    }
   ],
   "source": [
    "for col in ttt.columns:\n",
    "    print(ttt[col].value_counts())"
   ]
  },
  {
   "cell_type": "code",
   "execution_count": null,
   "metadata": {},
   "outputs": [],
   "source": []
  },
  {
   "cell_type": "markdown",
   "metadata": {},
   "source": [
    "### Convert the categorical values to numeric in all columns."
   ]
  },
  {
   "cell_type": "code",
   "execution_count": 11,
   "metadata": {},
   "outputs": [
    {
     "data": {
      "text/plain": [
       "TL       object\n",
       "TM       object\n",
       "TR       object\n",
       "ML       object\n",
       "MM       object\n",
       "MR       object\n",
       "BL       object\n",
       "BM       object\n",
       "BR       object\n",
       "xWins      bool\n",
       "dtype: object"
      ]
     },
     "execution_count": 11,
     "metadata": {},
     "output_type": "execute_result"
    }
   ],
   "source": [
    "ttt.dtypes"
   ]
  },
  {
   "cell_type": "code",
   "execution_count": 14,
   "metadata": {},
   "outputs": [],
   "source": [
    "# from sklearn.preprocessing import OneHotEncoder\n",
    "# OneHotEncoder does not suit with sparse_categorical_crossentropy\n",
    "\n",
    "# Possible alternatives:\n",
    "    # use mappers or lambda function\n",
    "    # use labelEncoder\n",
    "    # apply transformer"
   ]
  },
  {
   "cell_type": "code",
   "execution_count": null,
   "metadata": {},
   "outputs": [],
   "source": [
    "# Question\n",
    "# ??? Why not min_max_scaler ? Was not supposed to be the scaler for the NN?\n",
    "# Review results of standardScaler and PowerTransformer"
   ]
  },
  {
   "cell_type": "code",
   "execution_count": 15,
   "metadata": {},
   "outputs": [],
   "source": [
    "# split X - y\n",
    "X = ttt.iloc[:,:-1]\n",
    "y = ttt.iloc[:,-1]"
   ]
  },
  {
   "cell_type": "markdown",
   "metadata": {},
   "source": [
    "#### X"
   ]
  },
  {
   "cell_type": "code",
   "execution_count": 16,
   "metadata": {},
   "outputs": [
    {
     "data": {
      "text/html": [
       "<div>\n",
       "<style scoped>\n",
       "    .dataframe tbody tr th:only-of-type {\n",
       "        vertical-align: middle;\n",
       "    }\n",
       "\n",
       "    .dataframe tbody tr th {\n",
       "        vertical-align: top;\n",
       "    }\n",
       "\n",
       "    .dataframe thead th {\n",
       "        text-align: right;\n",
       "    }\n",
       "</style>\n",
       "<table border=\"1\" class=\"dataframe\">\n",
       "  <thead>\n",
       "    <tr style=\"text-align: right;\">\n",
       "      <th></th>\n",
       "      <th>TL</th>\n",
       "      <th>TM</th>\n",
       "      <th>TR</th>\n",
       "      <th>ML</th>\n",
       "      <th>MM</th>\n",
       "      <th>MR</th>\n",
       "      <th>BL</th>\n",
       "      <th>BM</th>\n",
       "      <th>BR</th>\n",
       "    </tr>\n",
       "  </thead>\n",
       "  <tbody>\n",
       "    <tr>\n",
       "      <th>0</th>\n",
       "      <td>x</td>\n",
       "      <td>x</td>\n",
       "      <td>x</td>\n",
       "      <td>x</td>\n",
       "      <td>o</td>\n",
       "      <td>o</td>\n",
       "      <td>x</td>\n",
       "      <td>o</td>\n",
       "      <td>o</td>\n",
       "    </tr>\n",
       "    <tr>\n",
       "      <th>1</th>\n",
       "      <td>x</td>\n",
       "      <td>x</td>\n",
       "      <td>x</td>\n",
       "      <td>x</td>\n",
       "      <td>o</td>\n",
       "      <td>o</td>\n",
       "      <td>o</td>\n",
       "      <td>x</td>\n",
       "      <td>o</td>\n",
       "    </tr>\n",
       "    <tr>\n",
       "      <th>2</th>\n",
       "      <td>x</td>\n",
       "      <td>x</td>\n",
       "      <td>x</td>\n",
       "      <td>x</td>\n",
       "      <td>o</td>\n",
       "      <td>o</td>\n",
       "      <td>o</td>\n",
       "      <td>o</td>\n",
       "      <td>x</td>\n",
       "    </tr>\n",
       "    <tr>\n",
       "      <th>3</th>\n",
       "      <td>x</td>\n",
       "      <td>x</td>\n",
       "      <td>x</td>\n",
       "      <td>x</td>\n",
       "      <td>o</td>\n",
       "      <td>o</td>\n",
       "      <td>o</td>\n",
       "      <td>b</td>\n",
       "      <td>b</td>\n",
       "    </tr>\n",
       "    <tr>\n",
       "      <th>4</th>\n",
       "      <td>x</td>\n",
       "      <td>x</td>\n",
       "      <td>x</td>\n",
       "      <td>x</td>\n",
       "      <td>o</td>\n",
       "      <td>o</td>\n",
       "      <td>b</td>\n",
       "      <td>o</td>\n",
       "      <td>b</td>\n",
       "    </tr>\n",
       "    <tr>\n",
       "      <th>...</th>\n",
       "      <td>...</td>\n",
       "      <td>...</td>\n",
       "      <td>...</td>\n",
       "      <td>...</td>\n",
       "      <td>...</td>\n",
       "      <td>...</td>\n",
       "      <td>...</td>\n",
       "      <td>...</td>\n",
       "      <td>...</td>\n",
       "    </tr>\n",
       "    <tr>\n",
       "      <th>953</th>\n",
       "      <td>o</td>\n",
       "      <td>x</td>\n",
       "      <td>x</td>\n",
       "      <td>x</td>\n",
       "      <td>o</td>\n",
       "      <td>o</td>\n",
       "      <td>o</td>\n",
       "      <td>x</td>\n",
       "      <td>x</td>\n",
       "    </tr>\n",
       "    <tr>\n",
       "      <th>954</th>\n",
       "      <td>o</td>\n",
       "      <td>x</td>\n",
       "      <td>o</td>\n",
       "      <td>x</td>\n",
       "      <td>x</td>\n",
       "      <td>o</td>\n",
       "      <td>x</td>\n",
       "      <td>o</td>\n",
       "      <td>x</td>\n",
       "    </tr>\n",
       "    <tr>\n",
       "      <th>955</th>\n",
       "      <td>o</td>\n",
       "      <td>x</td>\n",
       "      <td>o</td>\n",
       "      <td>x</td>\n",
       "      <td>o</td>\n",
       "      <td>x</td>\n",
       "      <td>x</td>\n",
       "      <td>o</td>\n",
       "      <td>x</td>\n",
       "    </tr>\n",
       "    <tr>\n",
       "      <th>956</th>\n",
       "      <td>o</td>\n",
       "      <td>x</td>\n",
       "      <td>o</td>\n",
       "      <td>o</td>\n",
       "      <td>x</td>\n",
       "      <td>x</td>\n",
       "      <td>x</td>\n",
       "      <td>o</td>\n",
       "      <td>x</td>\n",
       "    </tr>\n",
       "    <tr>\n",
       "      <th>957</th>\n",
       "      <td>o</td>\n",
       "      <td>o</td>\n",
       "      <td>x</td>\n",
       "      <td>x</td>\n",
       "      <td>x</td>\n",
       "      <td>o</td>\n",
       "      <td>o</td>\n",
       "      <td>x</td>\n",
       "      <td>x</td>\n",
       "    </tr>\n",
       "  </tbody>\n",
       "</table>\n",
       "<p>958 rows × 9 columns</p>\n",
       "</div>"
      ],
      "text/plain": [
       "    TL TM TR ML MM MR BL BM BR\n",
       "0    x  x  x  x  o  o  x  o  o\n",
       "1    x  x  x  x  o  o  o  x  o\n",
       "2    x  x  x  x  o  o  o  o  x\n",
       "3    x  x  x  x  o  o  o  b  b\n",
       "4    x  x  x  x  o  o  b  o  b\n",
       "..  .. .. .. .. .. .. .. .. ..\n",
       "953  o  x  x  x  o  o  o  x  x\n",
       "954  o  x  o  x  x  o  x  o  x\n",
       "955  o  x  o  x  o  x  x  o  x\n",
       "956  o  x  o  o  x  x  x  o  x\n",
       "957  o  o  x  x  x  o  o  x  x\n",
       "\n",
       "[958 rows x 9 columns]"
      ]
     },
     "execution_count": 16,
     "metadata": {},
     "output_type": "execute_result"
    }
   ],
   "source": [
    "X"
   ]
  },
  {
   "cell_type": "code",
   "execution_count": null,
   "metadata": {},
   "outputs": [],
   "source": [
    "# ??? drop = 'first'"
   ]
  },
  {
   "cell_type": "code",
   "execution_count": null,
   "metadata": {},
   "outputs": [],
   "source": [
    "# sparse = false\n",
    "# sparse matrix will drop valueError when fitting the NN\n",
    "\n",
    "# ??? to_array --> sparse = False will do it\n",
    "\n",
    "# ??? pd.DataFrame() "
   ]
  },
  {
   "cell_type": "code",
   "execution_count": 45,
   "metadata": {},
   "outputs": [
    {
     "data": {
      "text/html": [
       "<style>#sk-container-id-2 {color: black;background-color: white;}#sk-container-id-2 pre{padding: 0;}#sk-container-id-2 div.sk-toggleable {background-color: white;}#sk-container-id-2 label.sk-toggleable__label {cursor: pointer;display: block;width: 100%;margin-bottom: 0;padding: 0.3em;box-sizing: border-box;text-align: center;}#sk-container-id-2 label.sk-toggleable__label-arrow:before {content: \"▸\";float: left;margin-right: 0.25em;color: #696969;}#sk-container-id-2 label.sk-toggleable__label-arrow:hover:before {color: black;}#sk-container-id-2 div.sk-estimator:hover label.sk-toggleable__label-arrow:before {color: black;}#sk-container-id-2 div.sk-toggleable__content {max-height: 0;max-width: 0;overflow: hidden;text-align: left;background-color: #f0f8ff;}#sk-container-id-2 div.sk-toggleable__content pre {margin: 0.2em;color: black;border-radius: 0.25em;background-color: #f0f8ff;}#sk-container-id-2 input.sk-toggleable__control:checked~div.sk-toggleable__content {max-height: 200px;max-width: 100%;overflow: auto;}#sk-container-id-2 input.sk-toggleable__control:checked~label.sk-toggleable__label-arrow:before {content: \"▾\";}#sk-container-id-2 div.sk-estimator input.sk-toggleable__control:checked~label.sk-toggleable__label {background-color: #d4ebff;}#sk-container-id-2 div.sk-label input.sk-toggleable__control:checked~label.sk-toggleable__label {background-color: #d4ebff;}#sk-container-id-2 input.sk-hidden--visually {border: 0;clip: rect(1px 1px 1px 1px);clip: rect(1px, 1px, 1px, 1px);height: 1px;margin: -1px;overflow: hidden;padding: 0;position: absolute;width: 1px;}#sk-container-id-2 div.sk-estimator {font-family: monospace;background-color: #f0f8ff;border: 1px dotted black;border-radius: 0.25em;box-sizing: border-box;margin-bottom: 0.5em;}#sk-container-id-2 div.sk-estimator:hover {background-color: #d4ebff;}#sk-container-id-2 div.sk-parallel-item::after {content: \"\";width: 100%;border-bottom: 1px solid gray;flex-grow: 1;}#sk-container-id-2 div.sk-label:hover label.sk-toggleable__label {background-color: #d4ebff;}#sk-container-id-2 div.sk-serial::before {content: \"\";position: absolute;border-left: 1px solid gray;box-sizing: border-box;top: 0;bottom: 0;left: 50%;z-index: 0;}#sk-container-id-2 div.sk-serial {display: flex;flex-direction: column;align-items: center;background-color: white;padding-right: 0.2em;padding-left: 0.2em;position: relative;}#sk-container-id-2 div.sk-item {position: relative;z-index: 1;}#sk-container-id-2 div.sk-parallel {display: flex;align-items: stretch;justify-content: center;background-color: white;position: relative;}#sk-container-id-2 div.sk-item::before, #sk-container-id-2 div.sk-parallel-item::before {content: \"\";position: absolute;border-left: 1px solid gray;box-sizing: border-box;top: 0;bottom: 0;left: 50%;z-index: -1;}#sk-container-id-2 div.sk-parallel-item {display: flex;flex-direction: column;z-index: 1;position: relative;background-color: white;}#sk-container-id-2 div.sk-parallel-item:first-child::after {align-self: flex-end;width: 50%;}#sk-container-id-2 div.sk-parallel-item:last-child::after {align-self: flex-start;width: 50%;}#sk-container-id-2 div.sk-parallel-item:only-child::after {width: 0;}#sk-container-id-2 div.sk-dashed-wrapped {border: 1px dashed gray;margin: 0 0.4em 0.5em 0.4em;box-sizing: border-box;padding-bottom: 0.4em;background-color: white;}#sk-container-id-2 div.sk-label label {font-family: monospace;font-weight: bold;display: inline-block;line-height: 1.2em;}#sk-container-id-2 div.sk-label-container {text-align: center;}#sk-container-id-2 div.sk-container {/* jupyter's `normalize.less` sets `[hidden] { display: none; }` but bootstrap.min.css set `[hidden] { display: none !important; }` so we also need the `!important` here to be able to override the default hidden behavior on the sphinx rendered scikit-learn.org. See: https://github.com/scikit-learn/scikit-learn/issues/21755 */display: inline-block !important;position: relative;}#sk-container-id-2 div.sk-text-repr-fallback {display: none;}</style><div id=\"sk-container-id-2\" class=\"sk-top-container\"><div class=\"sk-text-repr-fallback\"><pre>OneHotEncoder(sparse=False)</pre><b>In a Jupyter environment, please rerun this cell to show the HTML representation or trust the notebook. <br />On GitHub, the HTML representation is unable to render, please try loading this page with nbviewer.org.</b></div><div class=\"sk-container\" hidden><div class=\"sk-item\"><div class=\"sk-estimator sk-toggleable\"><input class=\"sk-toggleable__control sk-hidden--visually\" id=\"sk-estimator-id-2\" type=\"checkbox\" checked><label for=\"sk-estimator-id-2\" class=\"sk-toggleable__label sk-toggleable__label-arrow\">OneHotEncoder</label><div class=\"sk-toggleable__content\"><pre>OneHotEncoder(sparse=False)</pre></div></div></div></div></div>"
      ],
      "text/plain": [
       "OneHotEncoder(sparse=False)"
      ]
     },
     "execution_count": 45,
     "metadata": {},
     "output_type": "execute_result"
    }
   ],
   "source": [
    "encoder_X = OneHotEncoder(sparse=False)\n",
    "encoder_X.fit(X)"
   ]
  },
  {
   "cell_type": "code",
   "execution_count": 46,
   "metadata": {},
   "outputs": [
    {
     "data": {
      "text/plain": [
       "[array(['b', 'o', 'x'], dtype=object),\n",
       " array(['b', 'o', 'x'], dtype=object),\n",
       " array(['b', 'o', 'x'], dtype=object),\n",
       " array(['b', 'o', 'x'], dtype=object),\n",
       " array(['b', 'o', 'x'], dtype=object),\n",
       " array(['b', 'o', 'x'], dtype=object),\n",
       " array(['b', 'o', 'x'], dtype=object),\n",
       " array(['b', 'o', 'x'], dtype=object),\n",
       " array(['b', 'o', 'x'], dtype=object)]"
      ]
     },
     "execution_count": 46,
     "metadata": {},
     "output_type": "execute_result"
    }
   ],
   "source": [
    "encoder_X.categories_"
   ]
  },
  {
   "cell_type": "code",
   "execution_count": 47,
   "metadata": {},
   "outputs": [
    {
     "data": {
      "text/plain": [
       "array([[0., 0., 1., ..., 0., 1., 0.],\n",
       "       [0., 0., 1., ..., 0., 1., 0.],\n",
       "       [0., 0., 1., ..., 0., 0., 1.],\n",
       "       ...,\n",
       "       [0., 1., 0., ..., 0., 0., 1.],\n",
       "       [0., 1., 0., ..., 0., 0., 1.],\n",
       "       [0., 1., 0., ..., 0., 0., 1.]])"
      ]
     },
     "execution_count": 47,
     "metadata": {},
     "output_type": "execute_result"
    }
   ],
   "source": [
    "X_num = encoder_X.transform(X)\n",
    "X_num"
   ]
  },
  {
   "cell_type": "code",
   "execution_count": 21,
   "metadata": {},
   "outputs": [],
   "source": [
    "# X_num.head()"
   ]
  },
  {
   "cell_type": "code",
   "execution_count": 48,
   "metadata": {},
   "outputs": [
    {
     "data": {
      "text/plain": [
       "array(['TL_b', 'TL_o', 'TL_x', 'TM_b', 'TM_o', 'TM_x', 'TR_b', 'TR_o',\n",
       "       'TR_x', 'ML_b', 'ML_o', 'ML_x', 'MM_b', 'MM_o', 'MM_x', 'MR_b',\n",
       "       'MR_o', 'MR_x', 'BL_b', 'BL_o', 'BL_x', 'BM_b', 'BM_o', 'BM_x',\n",
       "       'BR_b', 'BR_o', 'BR_x'], dtype=object)"
      ]
     },
     "execution_count": 48,
     "metadata": {},
     "output_type": "execute_result"
    }
   ],
   "source": [
    "encoder_X.get_feature_names_out()"
   ]
  },
  {
   "cell_type": "markdown",
   "metadata": {},
   "source": [
    "#### y"
   ]
  },
  {
   "cell_type": "code",
   "execution_count": 37,
   "metadata": {},
   "outputs": [
    {
     "data": {
      "text/plain": [
       "0      1\n",
       "1      1\n",
       "2      1\n",
       "3      1\n",
       "4      1\n",
       "      ..\n",
       "953    0\n",
       "954    0\n",
       "955    0\n",
       "956    0\n",
       "957    0\n",
       "Name: xWins, Length: 958, dtype: int64"
      ]
     },
     "execution_count": 37,
     "metadata": {},
     "output_type": "execute_result"
    }
   ],
   "source": [
    "# y_num = y.apply(lambda x: 1 if x == True else 0)\n",
    "# y_num"
   ]
  },
  {
   "cell_type": "code",
   "execution_count": null,
   "metadata": {},
   "outputs": [],
   "source": []
  },
  {
   "cell_type": "markdown",
   "metadata": {},
   "source": [
    "## Step 2: Build Neural Network\n",
    "\n",
    "To build the neural network, you can refer to your own codes you wrote while following the [Deep Learning with Python, TensorFlow, and Keras tutorial](https://www.youtube.com/watch?v=wQ8BIBpya2k) in the lesson. It's pretty similar to what you will be doing in this lab.\n",
    "\n",
    "1. Split the training and test data.\n",
    "1. Create a `Sequential` model.\n",
    "1. Add several layers to your model. Make sure you use ReLU as the activation function for the middle layers. Use Softmax for the output layer because each output has a single lable and all the label probabilities add up to 1.\n",
    "1. Compile the model using `adam` as the optimizer and `sparse_categorical_crossentropy` as the loss function. For metrics, use `accuracy` for now.\n",
    "1. Fit the training data.\n",
    "1. Evaluate your neural network model with the test data.\n",
    "1. Save your model as `tic-tac-toe.model`."
   ]
  },
  {
   "cell_type": "markdown",
   "metadata": {},
   "source": [
    "### Train - test split"
   ]
  },
  {
   "cell_type": "code",
   "execution_count": null,
   "metadata": {},
   "outputs": [],
   "source": [
    "# ??? works with boolean in y?"
   ]
  },
  {
   "cell_type": "code",
   "execution_count": 54,
   "metadata": {},
   "outputs": [],
   "source": [
    "X_train, X_test, y_train, y_test = train_test_split(X_num, y, random_state=0, test_size=0.2)"
   ]
  },
  {
   "cell_type": "code",
   "execution_count": 55,
   "metadata": {},
   "outputs": [
    {
     "data": {
      "text/plain": [
       "array([[0., 1., 0., ..., 1., 0., 0.],\n",
       "       [1., 0., 0., ..., 0., 1., 0.],\n",
       "       [0., 0., 1., ..., 1., 0., 0.],\n",
       "       ...,\n",
       "       [0., 0., 1., ..., 1., 0., 0.],\n",
       "       [1., 0., 0., ..., 0., 0., 1.],\n",
       "       [0., 0., 1., ..., 0., 1., 0.]])"
      ]
     },
     "execution_count": 55,
     "metadata": {},
     "output_type": "execute_result"
    }
   ],
   "source": [
    "X_train"
   ]
  },
  {
   "cell_type": "code",
   "execution_count": 56,
   "metadata": {},
   "outputs": [
    {
     "data": {
      "text/plain": [
       "338     True\n",
       "588     True\n",
       "62      True\n",
       "79      True\n",
       "651    False\n",
       "       ...  \n",
       "835    False\n",
       "192     True\n",
       "629    False\n",
       "559     True\n",
       "684    False\n",
       "Name: xWins, Length: 766, dtype: bool"
      ]
     },
     "execution_count": 56,
     "metadata": {},
     "output_type": "execute_result"
    }
   ],
   "source": [
    "y_train"
   ]
  },
  {
   "cell_type": "code",
   "execution_count": null,
   "metadata": {},
   "outputs": [],
   "source": []
  },
  {
   "cell_type": "markdown",
   "metadata": {},
   "source": [
    "### Build and compile the NN"
   ]
  },
  {
   "cell_type": "code",
   "execution_count": 57,
   "metadata": {},
   "outputs": [
    {
     "data": {
      "text/plain": [
       "(766, 27)"
      ]
     },
     "execution_count": 57,
     "metadata": {},
     "output_type": "execute_result"
    }
   ],
   "source": [
    "X_train.shape"
   ]
  },
  {
   "cell_type": "code",
   "execution_count": 58,
   "metadata": {},
   "outputs": [
    {
     "data": {
      "text/plain": [
       "(192, 27)"
      ]
     },
     "execution_count": 58,
     "metadata": {},
     "output_type": "execute_result"
    }
   ],
   "source": [
    "X_test.shape"
   ]
  },
  {
   "cell_type": "code",
   "execution_count": null,
   "metadata": {},
   "outputs": [],
   "source": []
  },
  {
   "cell_type": "code",
   "execution_count": null,
   "metadata": {},
   "outputs": [],
   "source": [
    "# Question\n",
    "# which activation if last layer units=1 --> sigmoid"
   ]
  },
  {
   "cell_type": "code",
   "execution_count": 73,
   "metadata": {},
   "outputs": [
    {
     "name": "stdout",
     "output_type": "stream",
     "text": [
      "Model: \"sequential_4\"\n",
      "_________________________________________________________________\n",
      " Layer (type)                Output Shape              Param #   \n",
      "=================================================================\n",
      " dense_12 (Dense)            (None, 32)                896       \n",
      "                                                                 \n",
      " dense_13 (Dense)            (None, 16)                528       \n",
      "                                                                 \n",
      " dense_14 (Dense)            (None, 2)                 34        \n",
      "                                                                 \n",
      "=================================================================\n",
      "Total params: 1,458\n",
      "Trainable params: 1,458\n",
      "Non-trainable params: 0\n",
      "_________________________________________________________________\n"
     ]
    }
   ],
   "source": [
    "# Here, the \"patience\" keyword controls how many iterations the network will do without improving \n",
    "# the cost function before stopping.\n",
    "early_stopping = EarlyStopping(patience=5) \n",
    "\n",
    "\n",
    "model_c1 = keras.Sequential()\n",
    "# Adding a hidden layer with:\n",
    "# as many inputs as the number of features\n",
    "# 32 neurons\n",
    "# each neuron will have a \"RELU\" activation function\n",
    "model_c1.add(Dense(units = 32,input_dim = X_train.shape[1],activation='relu'))\n",
    "# Adding a new hidden layer with 16 neurons with \"RELU\" activation function\n",
    "model_c1.add(Dense(units = 16,activation='relu'))\n",
    "# Adding the final layer\n",
    "model_c1.add(Dense(units = 2, activation='softmax'))\n",
    "\n",
    "# Compile the final network\n",
    "model_c1.compile(optimizer='adam', # optimizer='rmsprop', # Optimization method\n",
    "              loss='categorical_crossentropy', # Error metric to minimize\n",
    "              metrics=['accuracy'] # Error metrics to report\n",
    "              )\n",
    "\n",
    "\n",
    "model_c1.summary()"
   ]
  },
  {
   "cell_type": "code",
   "execution_count": null,
   "metadata": {},
   "outputs": [],
   "source": []
  },
  {
   "cell_type": "markdown",
   "metadata": {},
   "source": [
    "### y"
   ]
  },
  {
   "cell_type": "code",
   "execution_count": 74,
   "metadata": {},
   "outputs": [
    {
     "data": {
      "text/plain": [
       "array([[0., 1.],\n",
       "       [0., 1.],\n",
       "       [0., 1.],\n",
       "       ...,\n",
       "       [1., 0.],\n",
       "       [0., 1.],\n",
       "       [1., 0.]], dtype=float32)"
      ]
     },
     "execution_count": 74,
     "metadata": {},
     "output_type": "execute_result"
    }
   ],
   "source": [
    "y_train_a = keras.utils.to_categorical(y_train, num_classes=2)\n",
    "y_train_a"
   ]
  },
  {
   "cell_type": "code",
   "execution_count": null,
   "metadata": {},
   "outputs": [],
   "source": []
  },
  {
   "cell_type": "markdown",
   "metadata": {},
   "source": [
    "### fit NN"
   ]
  },
  {
   "cell_type": "code",
   "execution_count": null,
   "metadata": {},
   "outputs": [],
   "source": [
    "# Backup model"
   ]
  },
  {
   "cell_type": "code",
   "execution_count": 75,
   "metadata": {},
   "outputs": [],
   "source": [
    "checkpoint_path = '../models/cls-nn1.hdf5'\n",
    "checkpoint = ModelCheckpoint(\n",
    "    filepath=checkpoint_path,\n",
    "    save_freq='epoch',\n",
    "    save_weights_only=False,\n",
    "    verbose=1\n",
    ")"
   ]
  },
  {
   "cell_type": "code",
   "execution_count": null,
   "metadata": {},
   "outputs": [],
   "source": [
    "# Question\n",
    "# ??? Everytime I fit the model it changes...\n",
    "# ??? which is the fit function? where is its documentation?"
   ]
  },
  {
   "cell_type": "code",
   "execution_count": 76,
   "metadata": {
    "scrolled": true
   },
   "outputs": [
    {
     "name": "stdout",
     "output_type": "stream",
     "text": [
      "Epoch 1/60\n",
      "\n",
      "Epoch 1: saving model to ../models/cls-nn1.hdf5\n",
      "41/41 - 1s - loss: 0.6545 - accuracy: 0.6225 - val_loss: 0.6346 - val_accuracy: 0.6623 - 668ms/epoch - 16ms/step\n",
      "Epoch 2/60\n",
      "\n",
      "Epoch 2: saving model to ../models/cls-nn1.hdf5\n",
      "41/41 - 0s - loss: 0.5839 - accuracy: 0.7010 - val_loss: 0.5757 - val_accuracy: 0.7208 - 100ms/epoch - 2ms/step\n",
      "Epoch 3/60\n",
      "\n",
      "Epoch 3: saving model to ../models/cls-nn1.hdf5\n",
      "41/41 - 0s - loss: 0.5468 - accuracy: 0.7271 - val_loss: 0.5398 - val_accuracy: 0.7662 - 98ms/epoch - 2ms/step\n",
      "Epoch 4/60\n",
      "\n",
      "Epoch 4: saving model to ../models/cls-nn1.hdf5\n",
      "41/41 - 0s - loss: 0.5137 - accuracy: 0.7484 - val_loss: 0.5048 - val_accuracy: 0.7922 - 92ms/epoch - 2ms/step\n",
      "Epoch 5/60\n",
      "\n",
      "Epoch 5: saving model to ../models/cls-nn1.hdf5\n",
      "41/41 - 0s - loss: 0.4842 - accuracy: 0.7598 - val_loss: 0.4755 - val_accuracy: 0.7922 - 92ms/epoch - 2ms/step\n",
      "Epoch 6/60\n",
      "\n",
      "Epoch 6: saving model to ../models/cls-nn1.hdf5\n",
      "41/41 - 0s - loss: 0.4544 - accuracy: 0.7876 - val_loss: 0.4568 - val_accuracy: 0.7857 - 95ms/epoch - 2ms/step\n",
      "Epoch 7/60\n",
      "\n",
      "Epoch 7: saving model to ../models/cls-nn1.hdf5\n",
      "41/41 - 0s - loss: 0.4263 - accuracy: 0.8039 - val_loss: 0.4231 - val_accuracy: 0.8117 - 101ms/epoch - 2ms/step\n",
      "Epoch 8/60\n",
      "\n",
      "Epoch 8: saving model to ../models/cls-nn1.hdf5\n",
      "41/41 - 0s - loss: 0.3927 - accuracy: 0.8235 - val_loss: 0.4003 - val_accuracy: 0.8117 - 96ms/epoch - 2ms/step\n",
      "Epoch 9/60\n",
      "\n",
      "Epoch 9: saving model to ../models/cls-nn1.hdf5\n",
      "41/41 - 0s - loss: 0.3606 - accuracy: 0.8448 - val_loss: 0.3735 - val_accuracy: 0.8312 - 91ms/epoch - 2ms/step\n",
      "Epoch 10/60\n",
      "\n",
      "Epoch 10: saving model to ../models/cls-nn1.hdf5\n",
      "41/41 - 0s - loss: 0.3295 - accuracy: 0.8725 - val_loss: 0.3393 - val_accuracy: 0.8701 - 88ms/epoch - 2ms/step\n",
      "Epoch 11/60\n",
      "\n",
      "Epoch 11: saving model to ../models/cls-nn1.hdf5\n",
      "41/41 - 0s - loss: 0.2940 - accuracy: 0.8938 - val_loss: 0.3141 - val_accuracy: 0.8896 - 87ms/epoch - 2ms/step\n",
      "Epoch 12/60\n",
      "\n",
      "Epoch 12: saving model to ../models/cls-nn1.hdf5\n",
      "41/41 - 0s - loss: 0.2650 - accuracy: 0.9150 - val_loss: 0.2894 - val_accuracy: 0.9091 - 94ms/epoch - 2ms/step\n",
      "Epoch 13/60\n",
      "\n",
      "Epoch 13: saving model to ../models/cls-nn1.hdf5\n",
      "41/41 - 0s - loss: 0.2337 - accuracy: 0.9330 - val_loss: 0.2641 - val_accuracy: 0.9221 - 91ms/epoch - 2ms/step\n",
      "Epoch 14/60\n",
      "\n",
      "Epoch 14: saving model to ../models/cls-nn1.hdf5\n",
      "41/41 - 0s - loss: 0.2070 - accuracy: 0.9542 - val_loss: 0.2428 - val_accuracy: 0.9221 - 86ms/epoch - 2ms/step\n",
      "Epoch 15/60\n",
      "\n",
      "Epoch 15: saving model to ../models/cls-nn1.hdf5\n",
      "41/41 - 0s - loss: 0.1817 - accuracy: 0.9592 - val_loss: 0.2068 - val_accuracy: 0.9351 - 91ms/epoch - 2ms/step\n",
      "Epoch 16/60\n",
      "\n",
      "Epoch 16: saving model to ../models/cls-nn1.hdf5\n",
      "41/41 - 0s - loss: 0.1564 - accuracy: 0.9657 - val_loss: 0.1895 - val_accuracy: 0.9481 - 87ms/epoch - 2ms/step\n",
      "Epoch 17/60\n",
      "\n",
      "Epoch 17: saving model to ../models/cls-nn1.hdf5\n",
      "41/41 - 0s - loss: 0.1363 - accuracy: 0.9673 - val_loss: 0.1637 - val_accuracy: 0.9675 - 91ms/epoch - 2ms/step\n",
      "Epoch 18/60\n",
      "\n",
      "Epoch 18: saving model to ../models/cls-nn1.hdf5\n",
      "41/41 - 0s - loss: 0.1187 - accuracy: 0.9755 - val_loss: 0.1479 - val_accuracy: 0.9610 - 103ms/epoch - 3ms/step\n",
      "Epoch 19/60\n",
      "\n",
      "Epoch 19: saving model to ../models/cls-nn1.hdf5\n",
      "41/41 - 0s - loss: 0.1091 - accuracy: 0.9788 - val_loss: 0.1335 - val_accuracy: 0.9675 - 98ms/epoch - 2ms/step\n",
      "Epoch 20/60\n",
      "\n",
      "Epoch 20: saving model to ../models/cls-nn1.hdf5\n",
      "41/41 - 0s - loss: 0.0948 - accuracy: 0.9804 - val_loss: 0.1207 - val_accuracy: 0.9805 - 94ms/epoch - 2ms/step\n",
      "Epoch 21/60\n",
      "\n",
      "Epoch 21: saving model to ../models/cls-nn1.hdf5\n",
      "41/41 - 0s - loss: 0.0847 - accuracy: 0.9788 - val_loss: 0.1160 - val_accuracy: 0.9675 - 130ms/epoch - 3ms/step\n",
      "Epoch 22/60\n",
      "\n",
      "Epoch 22: saving model to ../models/cls-nn1.hdf5\n",
      "41/41 - 0s - loss: 0.0739 - accuracy: 0.9853 - val_loss: 0.1045 - val_accuracy: 0.9740 - 103ms/epoch - 3ms/step\n",
      "Epoch 23/60\n",
      "\n",
      "Epoch 23: saving model to ../models/cls-nn1.hdf5\n",
      "41/41 - 0s - loss: 0.0672 - accuracy: 0.9886 - val_loss: 0.0921 - val_accuracy: 0.9805 - 110ms/epoch - 3ms/step\n",
      "Epoch 24/60\n",
      "\n",
      "Epoch 24: saving model to ../models/cls-nn1.hdf5\n",
      "41/41 - 0s - loss: 0.0605 - accuracy: 0.9902 - val_loss: 0.0968 - val_accuracy: 0.9740 - 103ms/epoch - 3ms/step\n",
      "Epoch 25/60\n",
      "\n",
      "Epoch 25: saving model to ../models/cls-nn1.hdf5\n",
      "41/41 - 0s - loss: 0.0555 - accuracy: 0.9869 - val_loss: 0.0835 - val_accuracy: 0.9805 - 101ms/epoch - 2ms/step\n",
      "Epoch 26/60\n",
      "\n",
      "Epoch 26: saving model to ../models/cls-nn1.hdf5\n",
      "41/41 - 0s - loss: 0.0504 - accuracy: 0.9902 - val_loss: 0.0754 - val_accuracy: 0.9805 - 99ms/epoch - 2ms/step\n",
      "Epoch 27/60\n",
      "\n",
      "Epoch 27: saving model to ../models/cls-nn1.hdf5\n",
      "41/41 - 0s - loss: 0.0441 - accuracy: 0.9935 - val_loss: 0.0780 - val_accuracy: 0.9805 - 96ms/epoch - 2ms/step\n",
      "Epoch 28/60\n",
      "\n",
      "Epoch 28: saving model to ../models/cls-nn1.hdf5\n",
      "41/41 - 0s - loss: 0.0461 - accuracy: 0.9853 - val_loss: 0.0727 - val_accuracy: 0.9805 - 90ms/epoch - 2ms/step\n",
      "Epoch 29/60\n",
      "\n",
      "Epoch 29: saving model to ../models/cls-nn1.hdf5\n",
      "41/41 - 0s - loss: 0.0369 - accuracy: 0.9967 - val_loss: 0.0645 - val_accuracy: 0.9870 - 89ms/epoch - 2ms/step\n",
      "Epoch 30/60\n",
      "\n",
      "Epoch 30: saving model to ../models/cls-nn1.hdf5\n",
      "41/41 - 0s - loss: 0.0348 - accuracy: 0.9935 - val_loss: 0.0654 - val_accuracy: 0.9805 - 84ms/epoch - 2ms/step\n",
      "Epoch 31/60\n",
      "\n",
      "Epoch 31: saving model to ../models/cls-nn1.hdf5\n",
      "41/41 - 0s - loss: 0.0332 - accuracy: 0.9967 - val_loss: 0.0695 - val_accuracy: 0.9805 - 89ms/epoch - 2ms/step\n",
      "Epoch 32/60\n",
      "\n",
      "Epoch 32: saving model to ../models/cls-nn1.hdf5\n",
      "41/41 - 0s - loss: 0.0298 - accuracy: 0.9984 - val_loss: 0.0575 - val_accuracy: 0.9805 - 91ms/epoch - 2ms/step\n",
      "Epoch 33/60\n",
      "\n",
      "Epoch 33: saving model to ../models/cls-nn1.hdf5\n",
      "41/41 - 0s - loss: 0.0273 - accuracy: 0.9951 - val_loss: 0.0581 - val_accuracy: 0.9870 - 91ms/epoch - 2ms/step\n",
      "Epoch 34/60\n",
      "\n",
      "Epoch 34: saving model to ../models/cls-nn1.hdf5\n",
      "41/41 - 0s - loss: 0.0245 - accuracy: 0.9967 - val_loss: 0.0568 - val_accuracy: 0.9740 - 93ms/epoch - 2ms/step\n",
      "Epoch 35/60\n",
      "\n",
      "Epoch 35: saving model to ../models/cls-nn1.hdf5\n",
      "41/41 - 0s - loss: 0.0236 - accuracy: 0.9967 - val_loss: 0.0636 - val_accuracy: 0.9805 - 95ms/epoch - 2ms/step\n",
      "Epoch 36/60\n",
      "\n",
      "Epoch 36: saving model to ../models/cls-nn1.hdf5\n",
      "41/41 - 0s - loss: 0.0219 - accuracy: 0.9984 - val_loss: 0.0538 - val_accuracy: 0.9805 - 92ms/epoch - 2ms/step\n",
      "Epoch 37/60\n",
      "\n",
      "Epoch 37: saving model to ../models/cls-nn1.hdf5\n",
      "41/41 - 0s - loss: 0.0209 - accuracy: 0.9984 - val_loss: 0.0530 - val_accuracy: 0.9805 - 93ms/epoch - 2ms/step\n",
      "Epoch 38/60\n",
      "\n",
      "Epoch 38: saving model to ../models/cls-nn1.hdf5\n",
      "41/41 - 0s - loss: 0.0186 - accuracy: 0.9984 - val_loss: 0.0492 - val_accuracy: 0.9870 - 89ms/epoch - 2ms/step\n",
      "Epoch 39/60\n",
      "\n",
      "Epoch 39: saving model to ../models/cls-nn1.hdf5\n",
      "41/41 - 0s - loss: 0.0178 - accuracy: 0.9984 - val_loss: 0.0487 - val_accuracy: 0.9870 - 97ms/epoch - 2ms/step\n",
      "Epoch 40/60\n",
      "\n",
      "Epoch 40: saving model to ../models/cls-nn1.hdf5\n",
      "41/41 - 0s - loss: 0.0156 - accuracy: 1.0000 - val_loss: 0.0493 - val_accuracy: 0.9805 - 84ms/epoch - 2ms/step\n",
      "Epoch 41/60\n",
      "\n",
      "Epoch 41: saving model to ../models/cls-nn1.hdf5\n",
      "41/41 - 0s - loss: 0.0143 - accuracy: 0.9984 - val_loss: 0.0479 - val_accuracy: 0.9870 - 89ms/epoch - 2ms/step\n",
      "Epoch 42/60\n",
      "\n",
      "Epoch 42: saving model to ../models/cls-nn1.hdf5\n",
      "41/41 - 0s - loss: 0.0135 - accuracy: 1.0000 - val_loss: 0.0468 - val_accuracy: 0.9870 - 88ms/epoch - 2ms/step\n",
      "Epoch 43/60\n",
      "\n",
      "Epoch 43: saving model to ../models/cls-nn1.hdf5\n",
      "41/41 - 0s - loss: 0.0128 - accuracy: 1.0000 - val_loss: 0.0487 - val_accuracy: 0.9805 - 97ms/epoch - 2ms/step\n",
      "Epoch 44/60\n",
      "\n",
      "Epoch 44: saving model to ../models/cls-nn1.hdf5\n",
      "41/41 - 0s - loss: 0.0116 - accuracy: 1.0000 - val_loss: 0.0485 - val_accuracy: 0.9805 - 90ms/epoch - 2ms/step\n",
      "Epoch 45/60\n",
      "\n",
      "Epoch 45: saving model to ../models/cls-nn1.hdf5\n",
      "41/41 - 0s - loss: 0.0113 - accuracy: 0.9984 - val_loss: 0.0465 - val_accuracy: 0.9805 - 97ms/epoch - 2ms/step\n",
      "Epoch 46/60\n",
      "\n",
      "Epoch 46: saving model to ../models/cls-nn1.hdf5\n",
      "41/41 - 0s - loss: 0.0109 - accuracy: 1.0000 - val_loss: 0.0458 - val_accuracy: 0.9805 - 86ms/epoch - 2ms/step\n",
      "Epoch 47/60\n",
      "\n",
      "Epoch 47: saving model to ../models/cls-nn1.hdf5\n",
      "41/41 - 0s - loss: 0.0106 - accuracy: 0.9984 - val_loss: 0.0513 - val_accuracy: 0.9805 - 100ms/epoch - 2ms/step\n",
      "Epoch 48/60\n",
      "\n",
      "Epoch 48: saving model to ../models/cls-nn1.hdf5\n",
      "41/41 - 0s - loss: 0.0095 - accuracy: 1.0000 - val_loss: 0.0483 - val_accuracy: 0.9805 - 94ms/epoch - 2ms/step\n"
     ]
    },
    {
     "name": "stdout",
     "output_type": "stream",
     "text": [
      "Epoch 49/60\n",
      "\n",
      "Epoch 49: saving model to ../models/cls-nn1.hdf5\n",
      "41/41 - 0s - loss: 0.0083 - accuracy: 1.0000 - val_loss: 0.0456 - val_accuracy: 0.9805 - 93ms/epoch - 2ms/step\n",
      "Epoch 50/60\n",
      "\n",
      "Epoch 50: saving model to ../models/cls-nn1.hdf5\n",
      "41/41 - 0s - loss: 0.0085 - accuracy: 1.0000 - val_loss: 0.0484 - val_accuracy: 0.9805 - 89ms/epoch - 2ms/step\n",
      "Epoch 51/60\n",
      "\n",
      "Epoch 51: saving model to ../models/cls-nn1.hdf5\n",
      "41/41 - 0s - loss: 0.0076 - accuracy: 1.0000 - val_loss: 0.0457 - val_accuracy: 0.9805 - 93ms/epoch - 2ms/step\n",
      "Epoch 52/60\n",
      "\n",
      "Epoch 52: saving model to ../models/cls-nn1.hdf5\n",
      "41/41 - 0s - loss: 0.0072 - accuracy: 1.0000 - val_loss: 0.0464 - val_accuracy: 0.9805 - 93ms/epoch - 2ms/step\n",
      "Epoch 53/60\n",
      "\n",
      "Epoch 53: saving model to ../models/cls-nn1.hdf5\n",
      "41/41 - 0s - loss: 0.0067 - accuracy: 1.0000 - val_loss: 0.0472 - val_accuracy: 0.9805 - 104ms/epoch - 3ms/step\n",
      "Epoch 54/60\n",
      "\n",
      "Epoch 54: saving model to ../models/cls-nn1.hdf5\n",
      "41/41 - 0s - loss: 0.0067 - accuracy: 1.0000 - val_loss: 0.0438 - val_accuracy: 0.9805 - 92ms/epoch - 2ms/step\n",
      "Epoch 55/60\n",
      "\n",
      "Epoch 55: saving model to ../models/cls-nn1.hdf5\n",
      "41/41 - 0s - loss: 0.0060 - accuracy: 1.0000 - val_loss: 0.0456 - val_accuracy: 0.9805 - 87ms/epoch - 2ms/step\n",
      "Epoch 56/60\n",
      "\n",
      "Epoch 56: saving model to ../models/cls-nn1.hdf5\n",
      "41/41 - 0s - loss: 0.0056 - accuracy: 1.0000 - val_loss: 0.0489 - val_accuracy: 0.9805 - 105ms/epoch - 3ms/step\n",
      "Epoch 57/60\n",
      "\n",
      "Epoch 57: saving model to ../models/cls-nn1.hdf5\n",
      "41/41 - 0s - loss: 0.0051 - accuracy: 1.0000 - val_loss: 0.0448 - val_accuracy: 0.9870 - 108ms/epoch - 3ms/step\n",
      "Epoch 58/60\n",
      "\n",
      "Epoch 58: saving model to ../models/cls-nn1.hdf5\n",
      "41/41 - 0s - loss: 0.0054 - accuracy: 1.0000 - val_loss: 0.0451 - val_accuracy: 0.9805 - 102ms/epoch - 2ms/step\n",
      "Epoch 59/60\n",
      "\n",
      "Epoch 59: saving model to ../models/cls-nn1.hdf5\n",
      "41/41 - 0s - loss: 0.0050 - accuracy: 1.0000 - val_loss: 0.0462 - val_accuracy: 0.9805 - 108ms/epoch - 3ms/step\n"
     ]
    }
   ],
   "source": [
    "history_c1 = model_c1.fit(\n",
    "    X_train, \n",
    "    y_train_a, \n",
    "    epochs=60, \n",
    "    validation_split=0.20, \n",
    "    batch_size=15, \n",
    "    verbose=2,\n",
    "    callbacks=[early_stopping,checkpoint]\n",
    ")\n",
    "\n",
    "# ValueError: `validation_split` is only supported \n",
    "# for Tensors or NumPy arrays, found following types in the input: [<class 'scipy.sparse._csr.csr_matrix'>]\n",
    "\n",
    "# Node: 'sparse_categorical_crossentropy/SparseSoftmaxCrossEntropyWithLogits/SparseSoftmaxCrossEntropy\n",
    "#WithLogits'\n",
    "# logits and labels must have the same first dimension, got logits shape [15,2] and labels shape [30]\n",
    "# [[{{node sparse_categorical_crossentropy/SparseSoftmaxCrossEntropyWithLogits/SparseSoftmaxCross\n",
    "#EntropyWithLogits}}]] [Op:__inference_train_function_906]\n",
    "\n",
    "# https://stackoverflow.com/questions/56301426/tensorflow-keras-logits-and-labels-must-have-the-same-first-dimension-how-to"
   ]
  },
  {
   "cell_type": "markdown",
   "metadata": {},
   "source": [
    "### Evaluate"
   ]
  },
  {
   "cell_type": "code",
   "execution_count": 77,
   "metadata": {},
   "outputs": [
    {
     "data": {
      "image/png": "[encoded data removed]",
      "text/plain": [
       "<Figure size 432x288 with 1 Axes>"
      ]
     },
     "metadata": {
      "needs_background": "light"
     },
     "output_type": "display_data"
    }
   ],
   "source": [
    "plot_metric(history_c1,'loss')"
   ]
  },
  {
   "cell_type": "code",
   "execution_count": null,
   "metadata": {},
   "outputs": [],
   "source": []
  },
  {
   "cell_type": "code",
   "execution_count": null,
   "metadata": {},
   "outputs": [],
   "source": []
  },
  {
   "cell_type": "code",
   "execution_count": null,
   "metadata": {},
   "outputs": [],
   "source": []
  },
  {
   "cell_type": "markdown",
   "metadata": {},
   "source": [
    "## Step 3: Make Predictions\n",
    "\n",
    "Now load your saved model and use it to make predictions on a few random rows in the test dataset. Check if the predictions are correct."
   ]
  },
  {
   "cell_type": "code",
   "execution_count": null,
   "metadata": {},
   "outputs": [],
   "source": [
    "# your code here"
   ]
  },
  {
   "cell_type": "code",
   "execution_count": 78,
   "metadata": {},
   "outputs": [
    {
     "name": "stdout",
     "output_type": "stream",
     "text": [
      "24/24 [==============================] - 0s 710us/step\n",
      "6/6 [==============================] - 0s 1ms/step\n",
      "Results obtained for the TRAIN SET\n",
      "==================================\n",
      "The Cohen's Kappa is: 0.99\n",
      "              precision    recall  f1-score   support\n",
      "\n",
      "       False       0.99      1.00      0.99       258\n",
      "        True       1.00      1.00      1.00       508\n",
      "\n",
      "    accuracy                           1.00       766\n",
      "   macro avg       1.00      1.00      1.00       766\n",
      "weighted avg       1.00      1.00      1.00       766\n",
      "\n",
      "==================================\n",
      "Results obtained for the TEST SET\n",
      "The Cohen's Kappa is: 0.97\n",
      "              precision    recall  f1-score   support\n",
      "\n",
      "       False       1.00      0.96      0.98        74\n",
      "        True       0.98      1.00      0.99       118\n",
      "\n",
      "    accuracy                           0.98       192\n",
      "   macro avg       0.99      0.98      0.98       192\n",
      "weighted avg       0.98      0.98      0.98       192\n",
      "\n"
     ]
    }
   ],
   "source": [
    "y_pred_train_c1 = model_c1.predict(X_train) # This provides the probability for each class\n",
    "y_pred_test_c1  = model_c1.predict(X_test) # This provides the probability for each class\n",
    "\n",
    "# !!! We need to extract for each row which is the class which the highest probability\n",
    "# which corresponds to the index of the sublist\n",
    "y_pred_train_c1 = np.argmax(y_pred_train_c1, axis=1).reshape(-1,1)\n",
    "y_pred_test_c1  = np.argmax(y_pred_test_c1, axis=1).reshape(-1,1)\n",
    "\n",
    "model_performance_class(y_train, y_pred_train_c1, y_test, y_pred_test_c1)"
   ]
  },
  {
   "cell_type": "code",
   "execution_count": null,
   "metadata": {},
   "outputs": [],
   "source": []
  },
  {
   "cell_type": "code",
   "execution_count": null,
   "metadata": {},
   "outputs": [],
   "source": []
  },
  {
   "cell_type": "markdown",
   "metadata": {},
   "source": [
    "## Step 4: Improve Your Model\n",
    "\n",
    "Did your model achieve low loss (<0.1) and high accuracy (>0.95)? If not, try to improve your model.\n",
    "\n",
    "But how? There are so many things you can play with in Tensorflow and in the next challenge you'll learn about these things. But in this challenge, let's just do a few things to see if they will help.\n",
    "\n",
    "* Add more layers to your model. If the data are complex you need more layers. But don't use more layers than you need. If adding more layers does not improve the model performance you don't need additional layers.\n",
    "* Adjust the learning rate when you compile the model. This means you will create a custom `tf.keras.optimizers.Adam` instance where you specify the learning rate you want. Then pass the instance to `model.compile` as the optimizer.\n",
    "    * `tf.keras.optimizers.Adam` [reference](https://www.tensorflow.org/api_docs/python/tf/keras/optimizers/Adam).\n",
    "    * Don't worry if you don't understand what the learning rate does. You'll learn about it in the next challenge.\n",
    "* Adjust the number of epochs when you fit the training data to the model. Your model performance continues to improve as you train more epochs. But eventually it will reach the ceiling and the performance will stay the same."
   ]
  },
  {
   "cell_type": "code",
   "execution_count": 72,
   "metadata": {},
   "outputs": [],
   "source": [
    "# It does not need to be improved but I will exercise adding more layers and changing the learning rate"
   ]
  },
  {
   "cell_type": "markdown",
   "metadata": {},
   "source": [
    "### Add dropout layers"
   ]
  },
  {
   "cell_type": "code",
   "execution_count": 79,
   "metadata": {},
   "outputs": [
    {
     "name": "stdout",
     "output_type": "stream",
     "text": [
      "Model: \"sequential_5\"\n",
      "_________________________________________________________________\n",
      " Layer (type)                Output Shape              Param #   \n",
      "=================================================================\n",
      " dense_15 (Dense)            (None, 32)                896       \n",
      "                                                                 \n",
      " dropout (Dropout)           (None, 32)                0         \n",
      "                                                                 \n",
      " dense_16 (Dense)            (None, 16)                528       \n",
      "                                                                 \n",
      " dense_17 (Dense)            (None, 2)                 34        \n",
      "                                                                 \n",
      "=================================================================\n",
      "Total params: 1,458\n",
      "Trainable params: 1,458\n",
      "Non-trainable params: 0\n",
      "_________________________________________________________________\n"
     ]
    }
   ],
   "source": [
    "model_c2 = keras.Sequential()\n",
    "\n",
    "\n",
    "model_c2.add(Dense(units = 32,input_dim = X_train.shape[1],activation='relu'))\n",
    "\n",
    "model_c2.add(Dropout(0.25))\n",
    "\n",
    "model_c2.add(Dense(units = 16,activation='relu'))\n",
    "\n",
    "model_c2.add(Dense(units = 2, activation='softmax'))\n",
    "\n",
    "# Compile the final network\n",
    "model_c2.compile(optimizer= 'adam', # 'rmsprop', # Optimization method\n",
    "              loss='categorical_crossentropy', # Error metric to minimize\n",
    "              metrics=['accuracy'] # Error metrics to report\n",
    "              )\n",
    "\n",
    "\n",
    "model_c2.summary()"
   ]
  },
  {
   "cell_type": "code",
   "execution_count": 80,
   "metadata": {},
   "outputs": [],
   "source": [
    "checkpoint_path = '../models/cls-nn2.hdf5'\n",
    "checkpoint = ModelCheckpoint(\n",
    "    filepath=checkpoint_path,\n",
    "    save_freq='epoch',\n",
    "    save_weights_only=False,\n",
    "    verbose=1\n",
    ")"
   ]
  },
  {
   "cell_type": "markdown",
   "metadata": {},
   "source": [
    "#### fit"
   ]
  },
  {
   "cell_type": "code",
   "execution_count": 82,
   "metadata": {
    "scrolled": true
   },
   "outputs": [
    {
     "name": "stdout",
     "output_type": "stream",
     "text": [
      "Epoch 1/60\n",
      "\n",
      "Epoch 1: saving model to ../models/cls-nn2.hdf5\n",
      "41/41 - 1s - loss: 0.6386 - accuracy: 0.6389 - val_loss: 0.6203 - val_accuracy: 0.6558 - 609ms/epoch - 15ms/step\n",
      "Epoch 2/60\n",
      "\n",
      "Epoch 2: saving model to ../models/cls-nn2.hdf5\n",
      "41/41 - 0s - loss: 0.6062 - accuracy: 0.6748 - val_loss: 0.5845 - val_accuracy: 0.6883 - 98ms/epoch - 2ms/step\n",
      "Epoch 3/60\n",
      "\n",
      "Epoch 3: saving model to ../models/cls-nn2.hdf5\n",
      "41/41 - 0s - loss: 0.5802 - accuracy: 0.6912 - val_loss: 0.5602 - val_accuracy: 0.7143 - 97ms/epoch - 2ms/step\n",
      "Epoch 4/60\n",
      "\n",
      "Epoch 4: saving model to ../models/cls-nn2.hdf5\n",
      "41/41 - 0s - loss: 0.5596 - accuracy: 0.7075 - val_loss: 0.5354 - val_accuracy: 0.7532 - 116ms/epoch - 3ms/step\n",
      "Epoch 5/60\n",
      "\n",
      "Epoch 5: saving model to ../models/cls-nn2.hdf5\n",
      "41/41 - 0s - loss: 0.5547 - accuracy: 0.7092 - val_loss: 0.5146 - val_accuracy: 0.7857 - 95ms/epoch - 2ms/step\n",
      "Epoch 6/60\n",
      "\n",
      "Epoch 6: saving model to ../models/cls-nn2.hdf5\n",
      "41/41 - 0s - loss: 0.5272 - accuracy: 0.7418 - val_loss: 0.4955 - val_accuracy: 0.7987 - 95ms/epoch - 2ms/step\n",
      "Epoch 7/60\n",
      "\n",
      "Epoch 7: saving model to ../models/cls-nn2.hdf5\n",
      "41/41 - 0s - loss: 0.5212 - accuracy: 0.7369 - val_loss: 0.4767 - val_accuracy: 0.7922 - 98ms/epoch - 2ms/step\n",
      "Epoch 8/60\n",
      "\n",
      "Epoch 8: saving model to ../models/cls-nn2.hdf5\n",
      "41/41 - 0s - loss: 0.5016 - accuracy: 0.7451 - val_loss: 0.4585 - val_accuracy: 0.7792 - 96ms/epoch - 2ms/step\n",
      "Epoch 9/60\n",
      "\n",
      "Epoch 9: saving model to ../models/cls-nn2.hdf5\n",
      "41/41 - 0s - loss: 0.4799 - accuracy: 0.7614 - val_loss: 0.4414 - val_accuracy: 0.7987 - 91ms/epoch - 2ms/step\n",
      "Epoch 10/60\n",
      "\n",
      "Epoch 10: saving model to ../models/cls-nn2.hdf5\n",
      "41/41 - 0s - loss: 0.4868 - accuracy: 0.7663 - val_loss: 0.4241 - val_accuracy: 0.7987 - 86ms/epoch - 2ms/step\n",
      "Epoch 11/60\n",
      "\n",
      "Epoch 11: saving model to ../models/cls-nn2.hdf5\n",
      "41/41 - 0s - loss: 0.4670 - accuracy: 0.7778 - val_loss: 0.4100 - val_accuracy: 0.7987 - 93ms/epoch - 2ms/step\n",
      "Epoch 12/60\n",
      "\n",
      "Epoch 12: saving model to ../models/cls-nn2.hdf5\n",
      "41/41 - 0s - loss: 0.4361 - accuracy: 0.7859 - val_loss: 0.3900 - val_accuracy: 0.8117 - 95ms/epoch - 2ms/step\n",
      "Epoch 13/60\n",
      "\n",
      "Epoch 13: saving model to ../models/cls-nn2.hdf5\n",
      "41/41 - 0s - loss: 0.4280 - accuracy: 0.7974 - val_loss: 0.3813 - val_accuracy: 0.8182 - 93ms/epoch - 2ms/step\n",
      "Epoch 14/60\n",
      "\n",
      "Epoch 14: saving model to ../models/cls-nn2.hdf5\n",
      "41/41 - 0s - loss: 0.3967 - accuracy: 0.8186 - val_loss: 0.3587 - val_accuracy: 0.8247 - 93ms/epoch - 2ms/step\n",
      "Epoch 15/60\n",
      "\n",
      "Epoch 15: saving model to ../models/cls-nn2.hdf5\n",
      "41/41 - 0s - loss: 0.3944 - accuracy: 0.8105 - val_loss: 0.3573 - val_accuracy: 0.8377 - 91ms/epoch - 2ms/step\n",
      "Epoch 16/60\n",
      "\n",
      "Epoch 16: saving model to ../models/cls-nn2.hdf5\n",
      "41/41 - 0s - loss: 0.3771 - accuracy: 0.8252 - val_loss: 0.3288 - val_accuracy: 0.8312 - 92ms/epoch - 2ms/step\n",
      "Epoch 17/60\n",
      "\n",
      "Epoch 17: saving model to ../models/cls-nn2.hdf5\n",
      "41/41 - 0s - loss: 0.3526 - accuracy: 0.8350 - val_loss: 0.3129 - val_accuracy: 0.8636 - 93ms/epoch - 2ms/step\n",
      "Epoch 18/60\n",
      "\n",
      "Epoch 18: saving model to ../models/cls-nn2.hdf5\n",
      "41/41 - 0s - loss: 0.3334 - accuracy: 0.8595 - val_loss: 0.2869 - val_accuracy: 0.8766 - 89ms/epoch - 2ms/step\n",
      "Epoch 19/60\n",
      "\n",
      "Epoch 19: saving model to ../models/cls-nn2.hdf5\n",
      "41/41 - 0s - loss: 0.3128 - accuracy: 0.8791 - val_loss: 0.2767 - val_accuracy: 0.8831 - 91ms/epoch - 2ms/step\n",
      "Epoch 20/60\n",
      "\n",
      "Epoch 20: saving model to ../models/cls-nn2.hdf5\n",
      "41/41 - 0s - loss: 0.3033 - accuracy: 0.8856 - val_loss: 0.2745 - val_accuracy: 0.8896 - 91ms/epoch - 2ms/step\n",
      "Epoch 21/60\n",
      "\n",
      "Epoch 21: saving model to ../models/cls-nn2.hdf5\n",
      "41/41 - 0s - loss: 0.2876 - accuracy: 0.8840 - val_loss: 0.2439 - val_accuracy: 0.9156 - 92ms/epoch - 2ms/step\n",
      "Epoch 22/60\n",
      "\n",
      "Epoch 22: saving model to ../models/cls-nn2.hdf5\n",
      "41/41 - 0s - loss: 0.2748 - accuracy: 0.8856 - val_loss: 0.2217 - val_accuracy: 0.9221 - 96ms/epoch - 2ms/step\n",
      "Epoch 23/60\n",
      "\n",
      "Epoch 23: saving model to ../models/cls-nn2.hdf5\n",
      "41/41 - 0s - loss: 0.2519 - accuracy: 0.9069 - val_loss: 0.2061 - val_accuracy: 0.9416 - 91ms/epoch - 2ms/step\n",
      "Epoch 24/60\n",
      "\n",
      "Epoch 24: saving model to ../models/cls-nn2.hdf5\n",
      "41/41 - 0s - loss: 0.2429 - accuracy: 0.9020 - val_loss: 0.1919 - val_accuracy: 0.9481 - 87ms/epoch - 2ms/step\n",
      "Epoch 25/60\n",
      "\n",
      "Epoch 25: saving model to ../models/cls-nn2.hdf5\n",
      "41/41 - 0s - loss: 0.2499 - accuracy: 0.9020 - val_loss: 0.1813 - val_accuracy: 0.9481 - 92ms/epoch - 2ms/step\n",
      "Epoch 26/60\n",
      "\n",
      "Epoch 26: saving model to ../models/cls-nn2.hdf5\n",
      "41/41 - 0s - loss: 0.2196 - accuracy: 0.9150 - val_loss: 0.1679 - val_accuracy: 0.9610 - 88ms/epoch - 2ms/step\n",
      "Epoch 27/60\n",
      "\n",
      "Epoch 27: saving model to ../models/cls-nn2.hdf5\n",
      "41/41 - 0s - loss: 0.1953 - accuracy: 0.9428 - val_loss: 0.1609 - val_accuracy: 0.9481 - 91ms/epoch - 2ms/step\n",
      "Epoch 28/60\n",
      "\n",
      "Epoch 28: saving model to ../models/cls-nn2.hdf5\n",
      "41/41 - 0s - loss: 0.1888 - accuracy: 0.9265 - val_loss: 0.1384 - val_accuracy: 0.9675 - 87ms/epoch - 2ms/step\n",
      "Epoch 29/60\n",
      "\n",
      "Epoch 29: saving model to ../models/cls-nn2.hdf5\n",
      "41/41 - 0s - loss: 0.1881 - accuracy: 0.9314 - val_loss: 0.1340 - val_accuracy: 0.9610 - 90ms/epoch - 2ms/step\n",
      "Epoch 30/60\n",
      "\n",
      "Epoch 30: saving model to ../models/cls-nn2.hdf5\n",
      "41/41 - 0s - loss: 0.1864 - accuracy: 0.9379 - val_loss: 0.1280 - val_accuracy: 0.9740 - 91ms/epoch - 2ms/step\n",
      "Epoch 31/60\n",
      "\n",
      "Epoch 31: saving model to ../models/cls-nn2.hdf5\n",
      "41/41 - 0s - loss: 0.1614 - accuracy: 0.9461 - val_loss: 0.1199 - val_accuracy: 0.9805 - 89ms/epoch - 2ms/step\n",
      "Epoch 32/60\n",
      "\n",
      "Epoch 32: saving model to ../models/cls-nn2.hdf5\n",
      "41/41 - 0s - loss: 0.1579 - accuracy: 0.9379 - val_loss: 0.1099 - val_accuracy: 0.9740 - 93ms/epoch - 2ms/step\n",
      "Epoch 33/60\n",
      "\n",
      "Epoch 33: saving model to ../models/cls-nn2.hdf5\n",
      "41/41 - 0s - loss: 0.1312 - accuracy: 0.9526 - val_loss: 0.1090 - val_accuracy: 0.9805 - 94ms/epoch - 2ms/step\n",
      "Epoch 34/60\n",
      "\n",
      "Epoch 34: saving model to ../models/cls-nn2.hdf5\n",
      "41/41 - 0s - loss: 0.1428 - accuracy: 0.9477 - val_loss: 0.0946 - val_accuracy: 0.9805 - 92ms/epoch - 2ms/step\n",
      "Epoch 35/60\n",
      "\n",
      "Epoch 35: saving model to ../models/cls-nn2.hdf5\n",
      "41/41 - 0s - loss: 0.1287 - accuracy: 0.9592 - val_loss: 0.0851 - val_accuracy: 0.9870 - 90ms/epoch - 2ms/step\n",
      "Epoch 36/60\n",
      "\n",
      "Epoch 36: saving model to ../models/cls-nn2.hdf5\n",
      "41/41 - 0s - loss: 0.1282 - accuracy: 0.9657 - val_loss: 0.0827 - val_accuracy: 0.9935 - 87ms/epoch - 2ms/step\n",
      "Epoch 37/60\n",
      "\n",
      "Epoch 37: saving model to ../models/cls-nn2.hdf5\n",
      "41/41 - 0s - loss: 0.1144 - accuracy: 0.9706 - val_loss: 0.0753 - val_accuracy: 0.9870 - 90ms/epoch - 2ms/step\n",
      "Epoch 38/60\n",
      "\n",
      "Epoch 38: saving model to ../models/cls-nn2.hdf5\n",
      "41/41 - 0s - loss: 0.1103 - accuracy: 0.9690 - val_loss: 0.0718 - val_accuracy: 0.9870 - 91ms/epoch - 2ms/step\n",
      "Epoch 39/60\n",
      "\n",
      "Epoch 39: saving model to ../models/cls-nn2.hdf5\n",
      "41/41 - 0s - loss: 0.1202 - accuracy: 0.9542 - val_loss: 0.0709 - val_accuracy: 0.9870 - 95ms/epoch - 2ms/step\n",
      "Epoch 40/60\n",
      "\n",
      "Epoch 40: saving model to ../models/cls-nn2.hdf5\n",
      "41/41 - 0s - loss: 0.0977 - accuracy: 0.9673 - val_loss: 0.0632 - val_accuracy: 0.9935 - 93ms/epoch - 2ms/step\n",
      "Epoch 41/60\n",
      "\n",
      "Epoch 41: saving model to ../models/cls-nn2.hdf5\n",
      "41/41 - 0s - loss: 0.0998 - accuracy: 0.9690 - val_loss: 0.0631 - val_accuracy: 0.9870 - 96ms/epoch - 2ms/step\n",
      "Epoch 42/60\n",
      "\n",
      "Epoch 42: saving model to ../models/cls-nn2.hdf5\n",
      "41/41 - 0s - loss: 0.0971 - accuracy: 0.9657 - val_loss: 0.0614 - val_accuracy: 0.9935 - 97ms/epoch - 2ms/step\n",
      "Epoch 43/60\n",
      "\n",
      "Epoch 43: saving model to ../models/cls-nn2.hdf5\n",
      "41/41 - 0s - loss: 0.0967 - accuracy: 0.9641 - val_loss: 0.0579 - val_accuracy: 0.9870 - 112ms/epoch - 3ms/step\n",
      "Epoch 44/60\n",
      "\n",
      "Epoch 44: saving model to ../models/cls-nn2.hdf5\n",
      "41/41 - 0s - loss: 0.0916 - accuracy: 0.9690 - val_loss: 0.0580 - val_accuracy: 0.9870 - 95ms/epoch - 2ms/step\n",
      "Epoch 45/60\n",
      "\n",
      "Epoch 45: saving model to ../models/cls-nn2.hdf5\n",
      "41/41 - 0s - loss: 0.0833 - accuracy: 0.9722 - val_loss: 0.0520 - val_accuracy: 0.9870 - 98ms/epoch - 2ms/step\n",
      "Epoch 46/60\n",
      "\n",
      "Epoch 46: saving model to ../models/cls-nn2.hdf5\n",
      "41/41 - 0s - loss: 0.0733 - accuracy: 0.9755 - val_loss: 0.0536 - val_accuracy: 0.9935 - 97ms/epoch - 2ms/step\n",
      "Epoch 47/60\n",
      "\n",
      "Epoch 47: saving model to ../models/cls-nn2.hdf5\n",
      "41/41 - 0s - loss: 0.0811 - accuracy: 0.9706 - val_loss: 0.0440 - val_accuracy: 0.9935 - 93ms/epoch - 2ms/step\n",
      "Epoch 48/60\n",
      "\n",
      "Epoch 48: saving model to ../models/cls-nn2.hdf5\n",
      "41/41 - 0s - loss: 0.0727 - accuracy: 0.9837 - val_loss: 0.0408 - val_accuracy: 0.9935 - 97ms/epoch - 2ms/step\n"
     ]
    },
    {
     "name": "stdout",
     "output_type": "stream",
     "text": [
      "Epoch 49/60\n",
      "\n",
      "Epoch 49: saving model to ../models/cls-nn2.hdf5\n",
      "41/41 - 0s - loss: 0.0725 - accuracy: 0.9788 - val_loss: 0.0349 - val_accuracy: 1.0000 - 92ms/epoch - 2ms/step\n",
      "Epoch 50/60\n",
      "\n",
      "Epoch 50: saving model to ../models/cls-nn2.hdf5\n",
      "41/41 - 0s - loss: 0.0821 - accuracy: 0.9673 - val_loss: 0.0401 - val_accuracy: 0.9935 - 89ms/epoch - 2ms/step\n",
      "Epoch 51/60\n",
      "\n",
      "Epoch 51: saving model to ../models/cls-nn2.hdf5\n",
      "41/41 - 0s - loss: 0.0628 - accuracy: 0.9755 - val_loss: 0.0383 - val_accuracy: 0.9935 - 90ms/epoch - 2ms/step\n",
      "Epoch 52/60\n",
      "\n",
      "Epoch 52: saving model to ../models/cls-nn2.hdf5\n",
      "41/41 - 0s - loss: 0.0673 - accuracy: 0.9755 - val_loss: 0.0342 - val_accuracy: 1.0000 - 91ms/epoch - 2ms/step\n",
      "Epoch 53/60\n",
      "\n",
      "Epoch 53: saving model to ../models/cls-nn2.hdf5\n",
      "41/41 - 0s - loss: 0.0727 - accuracy: 0.9739 - val_loss: 0.0442 - val_accuracy: 0.9805 - 96ms/epoch - 2ms/step\n",
      "Epoch 54/60\n",
      "\n",
      "Epoch 54: saving model to ../models/cls-nn2.hdf5\n",
      "41/41 - 0s - loss: 0.0592 - accuracy: 0.9869 - val_loss: 0.0331 - val_accuracy: 1.0000 - 99ms/epoch - 2ms/step\n",
      "Epoch 55/60\n",
      "\n",
      "Epoch 55: saving model to ../models/cls-nn2.hdf5\n",
      "41/41 - 0s - loss: 0.0584 - accuracy: 0.9739 - val_loss: 0.0345 - val_accuracy: 0.9870 - 90ms/epoch - 2ms/step\n",
      "Epoch 56/60\n",
      "\n",
      "Epoch 56: saving model to ../models/cls-nn2.hdf5\n",
      "41/41 - 0s - loss: 0.0595 - accuracy: 0.9788 - val_loss: 0.0396 - val_accuracy: 0.9805 - 90ms/epoch - 2ms/step\n",
      "Epoch 57/60\n",
      "\n",
      "Epoch 57: saving model to ../models/cls-nn2.hdf5\n",
      "41/41 - 0s - loss: 0.0511 - accuracy: 0.9869 - val_loss: 0.0304 - val_accuracy: 0.9935 - 121ms/epoch - 3ms/step\n",
      "Epoch 58/60\n",
      "\n",
      "Epoch 58: saving model to ../models/cls-nn2.hdf5\n",
      "41/41 - 0s - loss: 0.0569 - accuracy: 0.9853 - val_loss: 0.0278 - val_accuracy: 0.9935 - 94ms/epoch - 2ms/step\n",
      "Epoch 59/60\n",
      "\n",
      "Epoch 59: saving model to ../models/cls-nn2.hdf5\n",
      "41/41 - 0s - loss: 0.0583 - accuracy: 0.9804 - val_loss: 0.0289 - val_accuracy: 1.0000 - 88ms/epoch - 2ms/step\n",
      "Epoch 60/60\n",
      "\n",
      "Epoch 60: saving model to ../models/cls-nn2.hdf5\n",
      "41/41 - 0s - loss: 0.0649 - accuracy: 0.9722 - val_loss: 0.0314 - val_accuracy: 0.9870 - 89ms/epoch - 2ms/step\n"
     ]
    }
   ],
   "source": [
    "history_c2 = model_c2.fit(\n",
    "    X_train, \n",
    "    y_train_a, \n",
    "    epochs=60, \n",
    "    validation_split=0.20, \n",
    "    batch_size=15, \n",
    "    verbose=2,\n",
    "    callbacks=[early_stopping,checkpoint]\n",
    ")"
   ]
  },
  {
   "cell_type": "code",
   "execution_count": null,
   "metadata": {},
   "outputs": [],
   "source": [
    "# The loss (categorical cross entropy) is worse"
   ]
  },
  {
   "cell_type": "code",
   "execution_count": null,
   "metadata": {},
   "outputs": [],
   "source": []
  },
  {
   "cell_type": "markdown",
   "metadata": {},
   "source": [
    "#### Evaluate"
   ]
  },
  {
   "cell_type": "code",
   "execution_count": 84,
   "metadata": {},
   "outputs": [
    {
     "data": {
      "image/png": "[encoded data removed]",
      "text/plain": [
       "<Figure size 432x288 with 1 Axes>"
      ]
     },
     "metadata": {
      "needs_background": "light"
     },
     "output_type": "display_data"
    }
   ],
   "source": [
    "plot_metric(history_c2,'loss')"
   ]
  },
  {
   "cell_type": "markdown",
   "metadata": {},
   "source": [
    "#### Predictions"
   ]
  },
  {
   "cell_type": "code",
   "execution_count": 85,
   "metadata": {},
   "outputs": [
    {
     "name": "stdout",
     "output_type": "stream",
     "text": [
      "24/24 [==============================] - 0s 1ms/step\n",
      "6/6 [==============================] - 0s 1ms/step\n",
      "Results obtained for the TRAIN SET\n",
      "==================================\n",
      "The Cohen's Kappa is: 0.99\n",
      "              precision    recall  f1-score   support\n",
      "\n",
      "       False       0.99      0.99      0.99       258\n",
      "        True       1.00      1.00      1.00       508\n",
      "\n",
      "    accuracy                           0.99       766\n",
      "   macro avg       0.99      0.99      0.99       766\n",
      "weighted avg       0.99      0.99      0.99       766\n",
      "\n",
      "==================================\n",
      "Results obtained for the TEST SET\n",
      "The Cohen's Kappa is: 0.92\n",
      "              precision    recall  f1-score   support\n",
      "\n",
      "       False       0.96      0.95      0.95        74\n",
      "        True       0.97      0.97      0.97       118\n",
      "\n",
      "    accuracy                           0.96       192\n",
      "   macro avg       0.96      0.96      0.96       192\n",
      "weighted avg       0.96      0.96      0.96       192\n",
      "\n"
     ]
    }
   ],
   "source": [
    "y_pred_train_c2 = model_c2.predict(X_train) # This provides the probability for each class\n",
    "y_pred_test_c2  = model_c2.predict(X_test) # This provides the probability for each class\n",
    "\n",
    "# !!! We need to extract for each row which is the class which the highest probability\n",
    "# which corresponds to the index of the sublist\n",
    "y_pred_train_c2 = np.argmax(y_pred_train_c2, axis=1).reshape(-1,1)\n",
    "y_pred_test_c2 = np.argmax(y_pred_test_c2, axis=1).reshape(-1,1)\n",
    "\n",
    "model_performance_class(y_train, y_pred_train_c2, y_test, y_pred_test_c2)"
   ]
  },
  {
   "cell_type": "code",
   "execution_count": 86,
   "metadata": {},
   "outputs": [],
   "source": [
    "# In that case with the dropout layer the scores seem to have decreased"
   ]
  },
  {
   "cell_type": "code",
   "execution_count": null,
   "metadata": {},
   "outputs": [],
   "source": []
  },
  {
   "cell_type": "markdown",
   "metadata": {},
   "source": [
    "### Adjust learning rate"
   ]
  },
  {
   "cell_type": "code",
   "execution_count": null,
   "metadata": {},
   "outputs": [],
   "source": [
    "# Question\n",
    "# ??? What is converging?\n",
    "# ??? How are related the weights to the loss function?"
   ]
  },
  {
   "cell_type": "markdown",
   "metadata": {},
   "source": [
    "There is a valley shape for each optimizer: too low a learning rate never progresses, too high a learning rate causes instability and never converges. In between there is a band of “just right” learning rates that successfully train."
   ]
  },
  {
   "cell_type": "markdown",
   "metadata": {},
   "source": [
    "#### learning rates"
   ]
  },
  {
   "cell_type": "code",
   "execution_count": null,
   "metadata": {},
   "outputs": [],
   "source": [
    "# Create a grid search for that with the best parameters in the article\n",
    "# optimizer = keras.optimizers.Adam(lr=0.01)\n",
    "# lrs = [0.0005, 0.001, 0.0015, 0.01]\n",
    "\n",
    "# train_metrics = history.history[metric] # Get the error metric for the TRAIN set\n",
    "# val_metrics = history.history['val_'+metric]"
   ]
  },
  {
   "cell_type": "code",
   "execution_count": 130,
   "metadata": {},
   "outputs": [
    {
     "data": {
      "text/plain": [
       "array([1.00000000e-06, 1.45634848e-06, 2.12095089e-06, 3.08884360e-06,\n",
       "       4.49843267e-06, 6.55128557e-06, 9.54095476e-06, 1.38949549e-05,\n",
       "       2.02358965e-05, 2.94705170e-05, 4.29193426e-05, 6.25055193e-05,\n",
       "       9.10298178e-05, 1.32571137e-04, 1.93069773e-04, 2.81176870e-04,\n",
       "       4.09491506e-04, 5.96362332e-04, 8.68511374e-04, 1.26485522e-03,\n",
       "       1.84206997e-03, 2.68269580e-03, 3.90693994e-03, 5.68986603e-03,\n",
       "       8.28642773e-03, 1.20679264e-02, 1.75751062e-02, 2.55954792e-02,\n",
       "       3.72759372e-02, 5.42867544e-02, 7.90604321e-02, 1.15139540e-01,\n",
       "       1.67683294e-01, 2.44205309e-01, 3.55648031e-01, 5.17947468e-01,\n",
       "       7.54312006e-01, 1.09854114e+00, 1.59985872e+00, 2.32995181e+00,\n",
       "       3.39322177e+00, 4.94171336e+00, 7.19685673e+00, 1.04811313e+01,\n",
       "       1.52641797e+01, 2.22299648e+01, 3.23745754e+01, 4.71486636e+01,\n",
       "       6.86648845e+01, 1.00000000e+02])"
      ]
     },
     "execution_count": 130,
     "metadata": {},
     "output_type": "execute_result"
    }
   ],
   "source": [
    "lrs = np.logspace(np.log10(0.000001),np.log10(100))\n",
    "lrs"
   ]
  },
  {
   "cell_type": "code",
   "execution_count": 139,
   "metadata": {},
   "outputs": [
    {
     "data": {
      "text/plain": [
       "array([1.00000000e-06, 1.46779927e-06, 2.15443469e-06, 3.16227766e-06,\n",
       "       4.64158883e-06, 6.81292069e-06, 1.00000000e-05, 1.46779927e-05,\n",
       "       2.15443469e-05, 3.16227766e-05, 4.64158883e-05, 6.81292069e-05,\n",
       "       1.00000000e-04, 1.46779927e-04, 2.15443469e-04, 3.16227766e-04,\n",
       "       4.64158883e-04, 6.81292069e-04, 1.00000000e-03, 1.46779927e-03,\n",
       "       2.15443469e-03, 3.16227766e-03, 4.64158883e-03, 6.81292069e-03,\n",
       "       1.00000000e-02, 1.46779927e-02, 2.15443469e-02, 3.16227766e-02,\n",
       "       4.64158883e-02, 6.81292069e-02, 1.00000000e-01, 1.46779927e-01,\n",
       "       2.15443469e-01, 3.16227766e-01, 4.64158883e-01, 6.81292069e-01,\n",
       "       1.00000000e+00, 1.46779927e+00, 2.15443469e+00, 3.16227766e+00,\n",
       "       4.64158883e+00, 6.81292069e+00, 1.00000000e+01, 1.46779927e+01,\n",
       "       2.15443469e+01, 3.16227766e+01, 4.64158883e+01, 6.81292069e+01])"
      ]
     },
     "execution_count": 139,
     "metadata": {},
     "output_type": "execute_result"
    }
   ],
   "source": [
    "lrs2 = np.logspace(np.log10(0.000001),np.log10(100), num=48, endpoint=False)\n",
    "lrs2"
   ]
  },
  {
   "cell_type": "code",
   "execution_count": 135,
   "metadata": {},
   "outputs": [
    {
     "data": {
      "text/plain": [
       "array([0.00086851, 0.00126486, 0.00184207, 0.0026827 , 0.00390694,\n",
       "       0.00568987, 0.00828643, 0.01206793, 0.01757511, 0.02559548,\n",
       "       0.03727594, 0.05428675, 0.07906043, 0.11513954, 0.16768329,\n",
       "       0.24420531, 0.35564803])"
      ]
     },
     "execution_count": 135,
     "metadata": {},
     "output_type": "execute_result"
    }
   ],
   "source": [
    "lrs[18:35]"
   ]
  },
  {
   "cell_type": "code",
   "execution_count": 137,
   "metadata": {},
   "outputs": [
    {
     "data": {
      "text/plain": [
       "array([0.00086851, 0.00126486, 0.00184207, 0.0026827 , 0.00390694,\n",
       "       0.00568987, 0.00828643, 0.01206793, 0.01757511, 0.02559548,\n",
       "       0.03727594, 0.05428675, 0.07906043])"
      ]
     },
     "execution_count": 137,
     "metadata": {},
     "output_type": "execute_result"
    }
   ],
   "source": [
    "lrs[18:31]"
   ]
  },
  {
   "cell_type": "code",
   "execution_count": 142,
   "metadata": {},
   "outputs": [
    {
     "data": {
      "text/plain": [
       "array([0.00046416, 0.00068129, 0.001     , 0.0014678 , 0.00215443,\n",
       "       0.00316228, 0.00464159, 0.00681292, 0.01      , 0.01467799,\n",
       "       0.02154435, 0.03162278, 0.04641589, 0.06812921, 0.1       ,\n",
       "       0.14677993])"
      ]
     },
     "execution_count": 142,
     "metadata": {},
     "output_type": "execute_result"
    }
   ],
   "source": [
    "lrs2[16:32]"
   ]
  },
  {
   "cell_type": "code",
   "execution_count": null,
   "metadata": {},
   "outputs": [],
   "source": []
  },
  {
   "cell_type": "code",
   "execution_count": null,
   "metadata": {},
   "outputs": [],
   "source": []
  },
  {
   "cell_type": "code",
   "execution_count": 128,
   "metadata": {},
   "outputs": [
    {
     "data": {
      "image/png": "[encoded data removed]",
      "text/plain": [
       "<Figure size 432x288 with 1 Axes>"
      ]
     },
     "metadata": {
      "needs_background": "light"
     },
     "output_type": "display_data"
    }
   ],
   "source": [
    "#plt.plot(np.array(range(1,200,5)), np.linspace(1,1,40), 'b', marker='o')\n",
    "#plt.plot(np.log10(range(1,200,5)), np.linspace(5,5,40), 'r', marker='o')\n",
    "plt.plot(np.logspace(np.log10(0.000001),np.log10(100)), np.linspace(10,10,50), 'g', marker='o')\n",
    "plt.show()"
   ]
  },
  {
   "cell_type": "code",
   "execution_count": null,
   "metadata": {},
   "outputs": [],
   "source": []
  },
  {
   "cell_type": "markdown",
   "metadata": {},
   "source": [
    "#### Choose Learning Rate - Build NN"
   ]
  },
  {
   "cell_type": "code",
   "execution_count": 153,
   "metadata": {},
   "outputs": [],
   "source": [
    "from sklearn.model_selection import GridSearchCV"
   ]
  },
  {
   "cell_type": "code",
   "execution_count": 147,
   "metadata": {},
   "outputs": [],
   "source": [
    "from keras.wrappers.scikit_learn import KerasClassifier\n",
    "from keras.optimizers import Adam"
   ]
  },
  {
   "cell_type": "code",
   "execution_count": null,
   "metadata": {},
   "outputs": [],
   "source": [
    "# optimizer = keras.optimizers.Adam(lr=0.01)\n"
   ]
  },
  {
   "cell_type": "code",
   "execution_count": 156,
   "metadata": {},
   "outputs": [
    {
     "data": {
      "text/plain": [
       "[0.00046415888336127773,\n",
       " 0.0006812920690579609,\n",
       " 0.001,\n",
       " 0.0014677992676220691,\n",
       " 0.002154434690031882,\n",
       " 0.0031622776601683794,\n",
       " 0.004641588833612777,\n",
       " 0.006812920690579608,\n",
       " 0.01,\n",
       " 0.014677992676220676,\n",
       " 0.021544346900318822,\n",
       " 0.03162277660168379,\n",
       " 0.046415888336127725,\n",
       " 0.06812920690579609,\n",
       " 0.1,\n",
       " 0.14677992676220675]"
      ]
     },
     "execution_count": 156,
     "metadata": {},
     "output_type": "execute_result"
    }
   ],
   "source": [
    "lr_grid = lrs2[16:32].tolist()\n",
    "lr_grid"
   ]
  },
  {
   "cell_type": "code",
   "execution_count": 180,
   "metadata": {
    "scrolled": true
   },
   "outputs": [
    {
     "name": "stdout",
     "output_type": "stream",
     "text": [
      "Model: \"sequential_42\"\n",
      "_________________________________________________________________\n",
      " Layer (type)                Output Shape              Param #   \n",
      "=================================================================\n",
      " dense_126 (Dense)           (None, 32)                896       \n",
      "                                                                 \n",
      " dropout_37 (Dropout)        (None, 32)                0         \n",
      "                                                                 \n",
      " dense_127 (Dense)           (None, 16)                528       \n",
      "                                                                 \n",
      " dense_128 (Dense)           (None, 2)                 34        \n",
      "                                                                 \n",
      "=================================================================\n",
      "Total params: 1,458\n",
      "Trainable params: 1,458\n",
      "Non-trainable params: 0\n",
      "_________________________________________________________________\n",
      "None\n"
     ]
    },
    {
     "data": {
      "image/png": "[encoded data removed]",
      "text/plain": [
       "<Figure size 432x288 with 1 Axes>"
      ]
     },
     "metadata": {
      "needs_background": "light"
     },
     "output_type": "display_data"
    },
    {
     "name": "stdout",
     "output_type": "stream",
     "text": [
      "24/24 [==============================] - 0s 695us/step\n",
      "6/6 [==============================] - 0s 1ms/step\n",
      "Model: \"sequential_43\"\n",
      "_________________________________________________________________\n",
      " Layer (type)                Output Shape              Param #   \n",
      "=================================================================\n",
      " dense_129 (Dense)           (None, 32)                896       \n",
      "                                                                 \n",
      " dropout_38 (Dropout)        (None, 32)                0         \n",
      "                                                                 \n",
      " dense_130 (Dense)           (None, 16)                528       \n",
      "                                                                 \n",
      " dense_131 (Dense)           (None, 2)                 34        \n",
      "                                                                 \n",
      "=================================================================\n",
      "Total params: 1,458\n",
      "Trainable params: 1,458\n",
      "Non-trainable params: 0\n",
      "_________________________________________________________________\n",
      "None\n"
     ]
    },
    {
     "data": {
      "image/png": "[encoded data removed]",
      "text/plain": [
       "<Figure size 432x288 with 1 Axes>"
      ]
     },
     "metadata": {
      "needs_background": "light"
     },
     "output_type": "display_data"
    },
    {
     "name": "stdout",
     "output_type": "stream",
     "text": [
      "24/24 [==============================] - 0s 819us/step\n",
      "6/6 [==============================] - 0s 1ms/step\n",
      "Model: \"sequential_44\"\n",
      "_________________________________________________________________\n",
      " Layer (type)                Output Shape              Param #   \n",
      "=================================================================\n",
      " dense_132 (Dense)           (None, 32)                896       \n",
      "                                                                 \n",
      " dropout_39 (Dropout)        (None, 32)                0         \n",
      "                                                                 \n",
      " dense_133 (Dense)           (None, 16)                528       \n",
      "                                                                 \n",
      " dense_134 (Dense)           (None, 2)                 34        \n",
      "                                                                 \n",
      "=================================================================\n",
      "Total params: 1,458\n",
      "Trainable params: 1,458\n",
      "Non-trainable params: 0\n",
      "_________________________________________________________________\n",
      "None\n"
     ]
    },
    {
     "data": {
      "image/png": "[encoded data removed]",
      "text/plain": [
       "<Figure size 432x288 with 1 Axes>"
      ]
     },
     "metadata": {
      "needs_background": "light"
     },
     "output_type": "display_data"
    },
    {
     "name": "stdout",
     "output_type": "stream",
     "text": [
      "24/24 [==============================] - 0s 1ms/step\n",
      "6/6 [==============================] - 0s 1ms/step\n",
      "Model: \"sequential_45\"\n",
      "_________________________________________________________________\n",
      " Layer (type)                Output Shape              Param #   \n",
      "=================================================================\n",
      " dense_135 (Dense)           (None, 32)                896       \n",
      "                                                                 \n",
      " dropout_40 (Dropout)        (None, 32)                0         \n",
      "                                                                 \n",
      " dense_136 (Dense)           (None, 16)                528       \n",
      "                                                                 \n",
      " dense_137 (Dense)           (None, 2)                 34        \n",
      "                                                                 \n",
      "=================================================================\n",
      "Total params: 1,458\n",
      "Trainable params: 1,458\n",
      "Non-trainable params: 0\n",
      "_________________________________________________________________\n",
      "None\n"
     ]
    },
    {
     "data": {
      "image/png": "[encoded data removed]",
      "text/plain": [
       "<Figure size 432x288 with 1 Axes>"
      ]
     },
     "metadata": {
      "needs_background": "light"
     },
     "output_type": "display_data"
    },
    {
     "name": "stdout",
     "output_type": "stream",
     "text": [
      "24/24 [==============================] - 0s 771us/step\n",
      "6/6 [==============================] - 0s 988us/step\n",
      "Model: \"sequential_46\"\n",
      "_________________________________________________________________\n",
      " Layer (type)                Output Shape              Param #   \n",
      "=================================================================\n",
      " dense_138 (Dense)           (None, 32)                896       \n",
      "                                                                 \n",
      " dropout_41 (Dropout)        (None, 32)                0         \n",
      "                                                                 \n",
      " dense_139 (Dense)           (None, 16)                528       \n",
      "                                                                 \n",
      " dense_140 (Dense)           (None, 2)                 34        \n",
      "                                                                 \n",
      "=================================================================\n",
      "Total params: 1,458\n",
      "Trainable params: 1,458\n",
      "Non-trainable params: 0\n",
      "_________________________________________________________________\n",
      "None\n"
     ]
    },
    {
     "data": {
      "image/png": "[encoded data removed]",
      "text/plain": [
       "<Figure size 432x288 with 1 Axes>"
      ]
     },
     "metadata": {
      "needs_background": "light"
     },
     "output_type": "display_data"
    },
    {
     "name": "stdout",
     "output_type": "stream",
     "text": [
      "24/24 [==============================] - 0s 860us/step\n",
      "6/6 [==============================] - 0s 1ms/step\n",
      "Model: \"sequential_47\"\n",
      "_________________________________________________________________\n",
      " Layer (type)                Output Shape              Param #   \n",
      "=================================================================\n",
      " dense_141 (Dense)           (None, 32)                896       \n",
      "                                                                 \n",
      " dropout_42 (Dropout)        (None, 32)                0         \n",
      "                                                                 \n",
      " dense_142 (Dense)           (None, 16)                528       \n",
      "                                                                 \n",
      " dense_143 (Dense)           (None, 2)                 34        \n",
      "                                                                 \n",
      "=================================================================\n",
      "Total params: 1,458\n",
      "Trainable params: 1,458\n",
      "Non-trainable params: 0\n",
      "_________________________________________________________________\n",
      "None\n"
     ]
    },
    {
     "data": {
      "image/png": "[encoded data removed]",
      "text/plain": [
       "<Figure size 432x288 with 1 Axes>"
      ]
     },
     "metadata": {
      "needs_background": "light"
     },
     "output_type": "display_data"
    },
    {
     "name": "stdout",
     "output_type": "stream",
     "text": [
      "24/24 [==============================] - 0s 964us/step\n",
      "6/6 [==============================] - 0s 2ms/step\n",
      "Model: \"sequential_48\"\n",
      "_________________________________________________________________\n",
      " Layer (type)                Output Shape              Param #   \n",
      "=================================================================\n",
      " dense_144 (Dense)           (None, 32)                896       \n",
      "                                                                 \n",
      " dropout_43 (Dropout)        (None, 32)                0         \n",
      "                                                                 \n",
      " dense_145 (Dense)           (None, 16)                528       \n",
      "                                                                 \n",
      " dense_146 (Dense)           (None, 2)                 34        \n",
      "                                                                 \n",
      "=================================================================\n",
      "Total params: 1,458\n",
      "Trainable params: 1,458\n",
      "Non-trainable params: 0\n",
      "_________________________________________________________________\n",
      "None\n"
     ]
    },
    {
     "data": {
      "image/png": "[encoded data removed]",
      "text/plain": [
       "<Figure size 432x288 with 1 Axes>"
      ]
     },
     "metadata": {
      "needs_background": "light"
     },
     "output_type": "display_data"
    },
    {
     "name": "stdout",
     "output_type": "stream",
     "text": [
      "24/24 [==============================] - 0s 861us/step\n",
      "6/6 [==============================] - 0s 1ms/step\n",
      "Model: \"sequential_49\"\n",
      "_________________________________________________________________\n",
      " Layer (type)                Output Shape              Param #   \n",
      "=================================================================\n",
      " dense_147 (Dense)           (None, 32)                896       \n",
      "                                                                 \n",
      " dropout_44 (Dropout)        (None, 32)                0         \n",
      "                                                                 \n",
      " dense_148 (Dense)           (None, 16)                528       \n",
      "                                                                 \n",
      " dense_149 (Dense)           (None, 2)                 34        \n",
      "                                                                 \n",
      "=================================================================\n",
      "Total params: 1,458\n",
      "Trainable params: 1,458\n",
      "Non-trainable params: 0\n",
      "_________________________________________________________________\n",
      "None\n"
     ]
    },
    {
     "data": {
      "image/png": "[encoded data removed]",
      "text/plain": [
       "<Figure size 432x288 with 1 Axes>"
      ]
     },
     "metadata": {
      "needs_background": "light"
     },
     "output_type": "display_data"
    },
    {
     "name": "stdout",
     "output_type": "stream",
     "text": [
      "24/24 [==============================] - 0s 886us/step\n",
      "6/6 [==============================] - 0s 1ms/step\n",
      "Model: \"sequential_50\"\n",
      "_________________________________________________________________\n",
      " Layer (type)                Output Shape              Param #   \n",
      "=================================================================\n",
      " dense_150 (Dense)           (None, 32)                896       \n",
      "                                                                 \n",
      " dropout_45 (Dropout)        (None, 32)                0         \n",
      "                                                                 \n",
      " dense_151 (Dense)           (None, 16)                528       \n",
      "                                                                 \n",
      " dense_152 (Dense)           (None, 2)                 34        \n",
      "                                                                 \n",
      "=================================================================\n",
      "Total params: 1,458\n",
      "Trainable params: 1,458\n",
      "Non-trainable params: 0\n",
      "_________________________________________________________________\n",
      "None\n"
     ]
    },
    {
     "data": {
      "image/png": "[encoded data removed]",
      "text/plain": [
       "<Figure size 432x288 with 1 Axes>"
      ]
     },
     "metadata": {
      "needs_background": "light"
     },
     "output_type": "display_data"
    },
    {
     "name": "stdout",
     "output_type": "stream",
     "text": [
      "24/24 [==============================] - 0s 813us/step\n",
      "6/6 [==============================] - 0s 1ms/step\n",
      "Model: \"sequential_51\"\n",
      "_________________________________________________________________\n",
      " Layer (type)                Output Shape              Param #   \n",
      "=================================================================\n",
      " dense_153 (Dense)           (None, 32)                896       \n",
      "                                                                 \n",
      " dropout_46 (Dropout)        (None, 32)                0         \n",
      "                                                                 \n",
      " dense_154 (Dense)           (None, 16)                528       \n",
      "                                                                 \n",
      " dense_155 (Dense)           (None, 2)                 34        \n",
      "                                                                 \n",
      "=================================================================\n",
      "Total params: 1,458\n",
      "Trainable params: 1,458\n",
      "Non-trainable params: 0\n",
      "_________________________________________________________________\n",
      "None\n"
     ]
    },
    {
     "data": {
      "image/png": "[encoded data removed]",
      "text/plain": [
       "<Figure size 432x288 with 1 Axes>"
      ]
     },
     "metadata": {
      "needs_background": "light"
     },
     "output_type": "display_data"
    },
    {
     "name": "stdout",
     "output_type": "stream",
     "text": [
      "24/24 [==============================] - 0s 821us/step\n",
      "6/6 [==============================] - 0s 1ms/step\n",
      "Model: \"sequential_52\"\n",
      "_________________________________________________________________\n",
      " Layer (type)                Output Shape              Param #   \n",
      "=================================================================\n",
      " dense_156 (Dense)           (None, 32)                896       \n",
      "                                                                 \n",
      " dropout_47 (Dropout)        (None, 32)                0         \n",
      "                                                                 \n",
      " dense_157 (Dense)           (None, 16)                528       \n",
      "                                                                 \n",
      " dense_158 (Dense)           (None, 2)                 34        \n",
      "                                                                 \n",
      "=================================================================\n",
      "Total params: 1,458\n",
      "Trainable params: 1,458\n",
      "Non-trainable params: 0\n",
      "_________________________________________________________________\n",
      "None\n"
     ]
    },
    {
     "data": {
      "image/png": "[encoded data removed]",
      "text/plain": [
       "<Figure size 432x288 with 1 Axes>"
      ]
     },
     "metadata": {
      "needs_background": "light"
     },
     "output_type": "display_data"
    },
    {
     "name": "stdout",
     "output_type": "stream",
     "text": [
      "24/24 [==============================] - 0s 761us/step\n",
      "6/6 [==============================] - 0s 1ms/step\n",
      "Model: \"sequential_53\"\n",
      "_________________________________________________________________\n",
      " Layer (type)                Output Shape              Param #   \n",
      "=================================================================\n",
      " dense_159 (Dense)           (None, 32)                896       \n",
      "                                                                 \n",
      " dropout_48 (Dropout)        (None, 32)                0         \n",
      "                                                                 \n",
      " dense_160 (Dense)           (None, 16)                528       \n",
      "                                                                 \n",
      " dense_161 (Dense)           (None, 2)                 34        \n",
      "                                                                 \n",
      "=================================================================\n",
      "Total params: 1,458\n",
      "Trainable params: 1,458\n",
      "Non-trainable params: 0\n",
      "_________________________________________________________________\n",
      "None\n"
     ]
    },
    {
     "data": {
      "image/png": "[encoded data removed]",
      "text/plain": [
       "<Figure size 432x288 with 1 Axes>"
      ]
     },
     "metadata": {
      "needs_background": "light"
     },
     "output_type": "display_data"
    },
    {
     "name": "stdout",
     "output_type": "stream",
     "text": [
      "24/24 [==============================] - 0s 812us/step\n",
      "6/6 [==============================] - 0s 1ms/step\n",
      "Model: \"sequential_54\"\n",
      "_________________________________________________________________\n",
      " Layer (type)                Output Shape              Param #   \n",
      "=================================================================\n",
      " dense_162 (Dense)           (None, 32)                896       \n",
      "                                                                 \n",
      " dropout_49 (Dropout)        (None, 32)                0         \n",
      "                                                                 \n",
      " dense_163 (Dense)           (None, 16)                528       \n",
      "                                                                 \n",
      " dense_164 (Dense)           (None, 2)                 34        \n",
      "                                                                 \n",
      "=================================================================\n",
      "Total params: 1,458\n",
      "Trainable params: 1,458\n",
      "Non-trainable params: 0\n",
      "_________________________________________________________________\n",
      "None\n"
     ]
    },
    {
     "data": {
      "image/png": "[encoded data removed]",
      "text/plain": [
       "<Figure size 432x288 with 1 Axes>"
      ]
     },
     "metadata": {
      "needs_background": "light"
     },
     "output_type": "display_data"
    },
    {
     "name": "stdout",
     "output_type": "stream",
     "text": [
      "24/24 [==============================] - 0s 863us/step\n",
      "6/6 [==============================] - 0s 1ms/step\n",
      "Model: \"sequential_55\"\n",
      "_________________________________________________________________\n",
      " Layer (type)                Output Shape              Param #   \n",
      "=================================================================\n",
      " dense_165 (Dense)           (None, 32)                896       \n",
      "                                                                 \n",
      " dropout_50 (Dropout)        (None, 32)                0         \n",
      "                                                                 \n",
      " dense_166 (Dense)           (None, 16)                528       \n",
      "                                                                 \n",
      " dense_167 (Dense)           (None, 2)                 34        \n",
      "                                                                 \n",
      "=================================================================\n",
      "Total params: 1,458\n",
      "Trainable params: 1,458\n",
      "Non-trainable params: 0\n",
      "_________________________________________________________________\n",
      "None\n"
     ]
    },
    {
     "data": {
      "image/png": "[encoded data removed]",
      "text/plain": [
       "<Figure size 432x288 with 1 Axes>"
      ]
     },
     "metadata": {
      "needs_background": "light"
     },
     "output_type": "display_data"
    },
    {
     "name": "stdout",
     "output_type": "stream",
     "text": [
      "24/24 [==============================] - 0s 817us/step\n",
      "6/6 [==============================] - 0s 1ms/step\n",
      "Model: \"sequential_56\"\n",
      "_________________________________________________________________\n",
      " Layer (type)                Output Shape              Param #   \n",
      "=================================================================\n",
      " dense_168 (Dense)           (None, 32)                896       \n",
      "                                                                 \n",
      " dropout_51 (Dropout)        (None, 32)                0         \n",
      "                                                                 \n",
      " dense_169 (Dense)           (None, 16)                528       \n",
      "                                                                 \n",
      " dense_170 (Dense)           (None, 2)                 34        \n",
      "                                                                 \n",
      "=================================================================\n",
      "Total params: 1,458\n",
      "Trainable params: 1,458\n",
      "Non-trainable params: 0\n",
      "_________________________________________________________________\n",
      "None\n"
     ]
    },
    {
     "data": {
      "image/png": "[encoded data removed]",
      "text/plain": [
       "<Figure size 432x288 with 1 Axes>"
      ]
     },
     "metadata": {
      "needs_background": "light"
     },
     "output_type": "display_data"
    },
    {
     "name": "stdout",
     "output_type": "stream",
     "text": [
      "24/24 [==============================] - 0s 776us/step\n",
      "6/6 [==============================] - 0s 1ms/step\n",
      "Model: \"sequential_57\"\n",
      "_________________________________________________________________\n",
      " Layer (type)                Output Shape              Param #   \n",
      "=================================================================\n",
      " dense_171 (Dense)           (None, 32)                896       \n",
      "                                                                 \n",
      " dropout_52 (Dropout)        (None, 32)                0         \n",
      "                                                                 \n",
      " dense_172 (Dense)           (None, 16)                528       \n",
      "                                                                 \n",
      " dense_173 (Dense)           (None, 2)                 34        \n",
      "                                                                 \n",
      "=================================================================\n",
      "Total params: 1,458\n",
      "Trainable params: 1,458\n",
      "Non-trainable params: 0\n",
      "_________________________________________________________________\n",
      "None\n"
     ]
    },
    {
     "data": {
      "image/png": "[encoded data removed]",
      "text/plain": [
       "<Figure size 432x288 with 1 Axes>"
      ]
     },
     "metadata": {
      "needs_background": "light"
     },
     "output_type": "display_data"
    },
    {
     "name": "stdout",
     "output_type": "stream",
     "text": [
      "24/24 [==============================] - 0s 824us/step\n",
      "6/6 [==============================] - 0s 1ms/step\n"
     ]
    }
   ],
   "source": [
    "lr_selection = {'learning_rate':[],\n",
    "                'model':[],\n",
    "                'accuracy' : [],\n",
    "                'val_accuracy':[],\n",
    "                'kappa_train' : [],\n",
    "                'kappa_test' : [],\n",
    "                'epoch' : []\n",
    "                }\n",
    "\n",
    "for idx,lr in enumerate(lr_grid):\n",
    "    lr_selection['learning_rate'].append(lr)\n",
    "    \n",
    "    # Create model\n",
    "    model_c3 = keras.Sequential()\n",
    "    model_c3.add(Dense(units = 32,input_dim = X_train.shape[1],activation='relu'))\n",
    "    model_c3.add(Dropout(0.25))\n",
    "    model_c3.add(Dense(units = 16,activation='relu'))\n",
    "    model_c3.add(Dense(units = 2, activation='softmax'))\n",
    "    \n",
    "    # Compile the network\n",
    "    optimizer = Adam(learning_rate=lr)\n",
    "    model_c3.compile(optimizer= optimizer, #'adam', # 'rmsprop', # Optimization method\n",
    "                  loss='categorical_crossentropy', # Error metric to minimize\n",
    "                  metrics=['accuracy'] # Error metrics to report\n",
    "                  )\n",
    "    print(model_c3.summary())\n",
    "    \n",
    "    lr_selection['model'].append(model_c3)\n",
    "    \n",
    "    checkpoint_path = '../models/lr_selec/cls-lrSel'+str(idx)+'.hdf5'\n",
    "    checkpoint = ModelCheckpoint(\n",
    "        filepath=checkpoint_path,\n",
    "        save_freq='epoch',\n",
    "        save_weights_only=False,\n",
    "        verbose=0\n",
    "    )\n",
    "    \n",
    "    history_c3 = model_c3.fit(\n",
    "        X_train, \n",
    "        y_train_a, \n",
    "        epochs=80, \n",
    "        validation_split=0.20, \n",
    "        batch_size=15, \n",
    "        verbose=0,\n",
    "        callbacks=[early_stopping,checkpoint]\n",
    "    )\n",
    "    \n",
    "    lr_selection['accuracy'].append(history_c3.history['accuracy'][-1])\n",
    "    lr_selection['val_accuracy'].append(history_c3.history['val_accuracy'][-1])\n",
    "    lr_selection['epoch'].append(len(history_c3.history['accuracy']))\n",
    "    \n",
    "    \n",
    "    plot_metric(history_c3,'loss')\n",
    "    \n",
    "    y_pred_train_c3 = model_c3.predict(X_train) # This provides the probability for each class\n",
    "    y_pred_test_c3 = model_c3.predict(X_test) # This provides the probability for each class\n",
    "\n",
    "    # !!! We need to extract for each row which is the class which the highest probability\n",
    "    # which corresponds to the index of the sublist\n",
    "    y_pred_train_c3 = np.argmax(y_pred_train_c3, axis=1).reshape(-1,1)\n",
    "    y_pred_test_c3 = np.argmax(y_pred_test_c3, axis=1).reshape(-1,1)\n",
    "\n",
    "    #model_performance_class(y_train, y_pred_train_c3, y_test, y_pred_test_c3)\n",
    "    \n",
    "    lr_selection['kappa_train'].append(cohen_kappa_score(y_train, y_pred_train_c3))\n",
    "    lr_selection['kappa_test'].append(cohen_kappa_score(y_test, y_pred_test_c3))\n",
    "\n"
   ]
  },
  {
   "cell_type": "code",
   "execution_count": null,
   "metadata": {},
   "outputs": [],
   "source": [
    "# Question\n",
    "# ??? Can you store a plot in a dataframe?\n",
    "# ??? After all the epochs saved in history, which will be the accuracy?\n",
    "# ??? What's the difference between history and model?\n",
    "# ??? How can the validation_loss be lower than the train_loss? (be better)"
   ]
  },
  {
   "cell_type": "code",
   "execution_count": 154,
   "metadata": {},
   "outputs": [],
   "source": []
  },
  {
   "cell_type": "code",
   "execution_count": 182,
   "metadata": {},
   "outputs": [
    {
     "data": {
      "text/html": [
       "<div>\n",
       "<style scoped>\n",
       "    .dataframe tbody tr th:only-of-type {\n",
       "        vertical-align: middle;\n",
       "    }\n",
       "\n",
       "    .dataframe tbody tr th {\n",
       "        vertical-align: top;\n",
       "    }\n",
       "\n",
       "    .dataframe thead th {\n",
       "        text-align: right;\n",
       "    }\n",
       "</style>\n",
       "<table border=\"1\" class=\"dataframe\">\n",
       "  <thead>\n",
       "    <tr style=\"text-align: right;\">\n",
       "      <th></th>\n",
       "      <th>learning_rate</th>\n",
       "      <th>model</th>\n",
       "      <th>accuracy</th>\n",
       "      <th>val_accuracy</th>\n",
       "      <th>kappa_train</th>\n",
       "      <th>kappa_test</th>\n",
       "      <th>epoch</th>\n",
       "    </tr>\n",
       "  </thead>\n",
       "  <tbody>\n",
       "    <tr>\n",
       "      <th>0</th>\n",
       "      <td>0.000464</td>\n",
       "      <td>&lt;keras.engine.sequential.Sequential object at ...</td>\n",
       "      <td>0.946078</td>\n",
       "      <td>0.974026</td>\n",
       "      <td>0.967825</td>\n",
       "      <td>0.890060</td>\n",
       "      <td>80</td>\n",
       "    </tr>\n",
       "    <tr>\n",
       "      <th>1</th>\n",
       "      <td>0.000681</td>\n",
       "      <td>&lt;keras.engine.sequential.Sequential object at ...</td>\n",
       "      <td>0.985294</td>\n",
       "      <td>0.980519</td>\n",
       "      <td>0.991242</td>\n",
       "      <td>0.933702</td>\n",
       "      <td>80</td>\n",
       "    </tr>\n",
       "    <tr>\n",
       "      <th>2</th>\n",
       "      <td>0.001000</td>\n",
       "      <td>&lt;keras.engine.sequential.Sequential object at ...</td>\n",
       "      <td>0.988562</td>\n",
       "      <td>1.000000</td>\n",
       "      <td>0.997081</td>\n",
       "      <td>0.955576</td>\n",
       "      <td>69</td>\n",
       "    </tr>\n",
       "    <tr>\n",
       "      <th>3</th>\n",
       "      <td>0.001468</td>\n",
       "      <td>&lt;keras.engine.sequential.Sequential object at ...</td>\n",
       "      <td>0.985294</td>\n",
       "      <td>0.993506</td>\n",
       "      <td>0.997081</td>\n",
       "      <td>0.933364</td>\n",
       "      <td>61</td>\n",
       "    </tr>\n",
       "    <tr>\n",
       "      <th>4</th>\n",
       "      <td>0.002154</td>\n",
       "      <td>&lt;keras.engine.sequential.Sequential object at ...</td>\n",
       "      <td>0.986928</td>\n",
       "      <td>0.987013</td>\n",
       "      <td>0.991242</td>\n",
       "      <td>0.933702</td>\n",
       "      <td>32</td>\n",
       "    </tr>\n",
       "    <tr>\n",
       "      <th>5</th>\n",
       "      <td>0.003162</td>\n",
       "      <td>&lt;keras.engine.sequential.Sequential object at ...</td>\n",
       "      <td>0.983660</td>\n",
       "      <td>0.987013</td>\n",
       "      <td>0.991242</td>\n",
       "      <td>0.956024</td>\n",
       "      <td>31</td>\n",
       "    </tr>\n",
       "    <tr>\n",
       "      <th>6</th>\n",
       "      <td>0.004642</td>\n",
       "      <td>&lt;keras.engine.sequential.Sequential object at ...</td>\n",
       "      <td>0.977124</td>\n",
       "      <td>1.000000</td>\n",
       "      <td>0.997075</td>\n",
       "      <td>0.978122</td>\n",
       "      <td>26</td>\n",
       "    </tr>\n",
       "    <tr>\n",
       "      <th>7</th>\n",
       "      <td>0.006813</td>\n",
       "      <td>&lt;keras.engine.sequential.Sequential object at ...</td>\n",
       "      <td>0.980392</td>\n",
       "      <td>0.967532</td>\n",
       "      <td>0.982399</td>\n",
       "      <td>0.933364</td>\n",
       "      <td>32</td>\n",
       "    </tr>\n",
       "    <tr>\n",
       "      <th>8</th>\n",
       "      <td>0.010000</td>\n",
       "      <td>&lt;keras.engine.sequential.Sequential object at ...</td>\n",
       "      <td>0.957516</td>\n",
       "      <td>0.974026</td>\n",
       "      <td>0.985375</td>\n",
       "      <td>0.878144</td>\n",
       "      <td>17</td>\n",
       "    </tr>\n",
       "    <tr>\n",
       "      <th>9</th>\n",
       "      <td>0.014678</td>\n",
       "      <td>&lt;keras.engine.sequential.Sequential object at ...</td>\n",
       "      <td>0.975490</td>\n",
       "      <td>0.987013</td>\n",
       "      <td>0.979486</td>\n",
       "      <td>0.921660</td>\n",
       "      <td>24</td>\n",
       "    </tr>\n",
       "    <tr>\n",
       "      <th>10</th>\n",
       "      <td>0.021544</td>\n",
       "      <td>&lt;keras.engine.sequential.Sequential object at ...</td>\n",
       "      <td>0.962418</td>\n",
       "      <td>0.987013</td>\n",
       "      <td>0.979603</td>\n",
       "      <td>0.945168</td>\n",
       "      <td>24</td>\n",
       "    </tr>\n",
       "    <tr>\n",
       "      <th>11</th>\n",
       "      <td>0.031623</td>\n",
       "      <td>&lt;keras.engine.sequential.Sequential object at ...</td>\n",
       "      <td>0.949346</td>\n",
       "      <td>1.000000</td>\n",
       "      <td>0.976442</td>\n",
       "      <td>0.933364</td>\n",
       "      <td>39</td>\n",
       "    </tr>\n",
       "    <tr>\n",
       "      <th>12</th>\n",
       "      <td>0.046416</td>\n",
       "      <td>&lt;keras.engine.sequential.Sequential object at ...</td>\n",
       "      <td>0.957516</td>\n",
       "      <td>0.987013</td>\n",
       "      <td>0.946995</td>\n",
       "      <td>0.933702</td>\n",
       "      <td>23</td>\n",
       "    </tr>\n",
       "    <tr>\n",
       "      <th>13</th>\n",
       "      <td>0.068129</td>\n",
       "      <td>&lt;keras.engine.sequential.Sequential object at ...</td>\n",
       "      <td>0.947712</td>\n",
       "      <td>0.987013</td>\n",
       "      <td>0.973624</td>\n",
       "      <td>0.944328</td>\n",
       "      <td>32</td>\n",
       "    </tr>\n",
       "    <tr>\n",
       "      <th>14</th>\n",
       "      <td>0.100000</td>\n",
       "      <td>&lt;keras.engine.sequential.Sequential object at ...</td>\n",
       "      <td>0.802288</td>\n",
       "      <td>0.818182</td>\n",
       "      <td>0.679604</td>\n",
       "      <td>0.631769</td>\n",
       "      <td>28</td>\n",
       "    </tr>\n",
       "    <tr>\n",
       "      <th>15</th>\n",
       "      <td>0.146780</td>\n",
       "      <td>&lt;keras.engine.sequential.Sequential object at ...</td>\n",
       "      <td>0.638889</td>\n",
       "      <td>0.655844</td>\n",
       "      <td>0.000000</td>\n",
       "      <td>0.000000</td>\n",
       "      <td>8</td>\n",
       "    </tr>\n",
       "  </tbody>\n",
       "</table>\n",
       "</div>"
      ],
      "text/plain": [
       "    learning_rate                                              model  \\\n",
       "0        0.000464  <keras.engine.sequential.Sequential object at ...   \n",
       "1        0.000681  <keras.engine.sequential.Sequential object at ...   \n",
       "2        0.001000  <keras.engine.sequential.Sequential object at ...   \n",
       "3        0.001468  <keras.engine.sequential.Sequential object at ...   \n",
       "4        0.002154  <keras.engine.sequential.Sequential object at ...   \n",
       "5        0.003162  <keras.engine.sequential.Sequential object at ...   \n",
       "6        0.004642  <keras.engine.sequential.Sequential object at ...   \n",
       "7        0.006813  <keras.engine.sequential.Sequential object at ...   \n",
       "8        0.010000  <keras.engine.sequential.Sequential object at ...   \n",
       "9        0.014678  <keras.engine.sequential.Sequential object at ...   \n",
       "10       0.021544  <keras.engine.sequential.Sequential object at ...   \n",
       "11       0.031623  <keras.engine.sequential.Sequential object at ...   \n",
       "12       0.046416  <keras.engine.sequential.Sequential object at ...   \n",
       "13       0.068129  <keras.engine.sequential.Sequential object at ...   \n",
       "14       0.100000  <keras.engine.sequential.Sequential object at ...   \n",
       "15       0.146780  <keras.engine.sequential.Sequential object at ...   \n",
       "\n",
       "    accuracy  val_accuracy  kappa_train  kappa_test  epoch  \n",
       "0   0.946078      0.974026     0.967825    0.890060     80  \n",
       "1   0.985294      0.980519     0.991242    0.933702     80  \n",
       "2   0.988562      1.000000     0.997081    0.955576     69  \n",
       "3   0.985294      0.993506     0.997081    0.933364     61  \n",
       "4   0.986928      0.987013     0.991242    0.933702     32  \n",
       "5   0.983660      0.987013     0.991242    0.956024     31  \n",
       "6   0.977124      1.000000     0.997075    0.978122     26  \n",
       "7   0.980392      0.967532     0.982399    0.933364     32  \n",
       "8   0.957516      0.974026     0.985375    0.878144     17  \n",
       "9   0.975490      0.987013     0.979486    0.921660     24  \n",
       "10  0.962418      0.987013     0.979603    0.945168     24  \n",
       "11  0.949346      1.000000     0.976442    0.933364     39  \n",
       "12  0.957516      0.987013     0.946995    0.933702     23  \n",
       "13  0.947712      0.987013     0.973624    0.944328     32  \n",
       "14  0.802288      0.818182     0.679604    0.631769     28  \n",
       "15  0.638889      0.655844     0.000000    0.000000      8  "
      ]
     },
     "execution_count": 182,
     "metadata": {},
     "output_type": "execute_result"
    }
   ],
   "source": [
    "lr_selection_df = pd.DataFrame(lr_selection)\n",
    "lr_selection_df"
   ]
  },
  {
   "cell_type": "code",
   "execution_count": 185,
   "metadata": {},
   "outputs": [
    {
     "data": {
      "text/html": [
       "<div>\n",
       "<style scoped>\n",
       "    .dataframe tbody tr th:only-of-type {\n",
       "        vertical-align: middle;\n",
       "    }\n",
       "\n",
       "    .dataframe tbody tr th {\n",
       "        vertical-align: top;\n",
       "    }\n",
       "\n",
       "    .dataframe thead th {\n",
       "        text-align: right;\n",
       "    }\n",
       "</style>\n",
       "<table border=\"1\" class=\"dataframe\">\n",
       "  <thead>\n",
       "    <tr style=\"text-align: right;\">\n",
       "      <th></th>\n",
       "      <th>learning_rate</th>\n",
       "      <th>model</th>\n",
       "      <th>accuracy</th>\n",
       "      <th>val_accuracy</th>\n",
       "      <th>kappa_train</th>\n",
       "      <th>kappa_test</th>\n",
       "      <th>epoch</th>\n",
       "    </tr>\n",
       "  </thead>\n",
       "  <tbody>\n",
       "    <tr>\n",
       "      <th>6</th>\n",
       "      <td>0.004642</td>\n",
       "      <td>&lt;keras.engine.sequential.Sequential object at ...</td>\n",
       "      <td>0.977124</td>\n",
       "      <td>1.0</td>\n",
       "      <td>0.997075</td>\n",
       "      <td>0.978122</td>\n",
       "      <td>26</td>\n",
       "    </tr>\n",
       "  </tbody>\n",
       "</table>\n",
       "</div>"
      ],
      "text/plain": [
       "   learning_rate                                              model  accuracy  \\\n",
       "6       0.004642  <keras.engine.sequential.Sequential object at ...  0.977124   \n",
       "\n",
       "   val_accuracy  kappa_train  kappa_test  epoch  \n",
       "6           1.0     0.997075    0.978122     26  "
      ]
     },
     "execution_count": 185,
     "metadata": {},
     "output_type": "execute_result"
    }
   ],
   "source": [
    "lr_selection_df[lr_selection_df.kappa_test==lr_selection_df.kappa_test.max()]"
   ]
  },
  {
   "cell_type": "code",
   "execution_count": 186,
   "metadata": {},
   "outputs": [],
   "source": [
    "lr_selection_df['trade_off'] = lr_selection_df.kappa_train-lr_selection_df.kappa_test"
   ]
  },
  {
   "cell_type": "code",
   "execution_count": 187,
   "metadata": {},
   "outputs": [
    {
     "data": {
      "text/html": [
       "<div>\n",
       "<style scoped>\n",
       "    .dataframe tbody tr th:only-of-type {\n",
       "        vertical-align: middle;\n",
       "    }\n",
       "\n",
       "    .dataframe tbody tr th {\n",
       "        vertical-align: top;\n",
       "    }\n",
       "\n",
       "    .dataframe thead th {\n",
       "        text-align: right;\n",
       "    }\n",
       "</style>\n",
       "<table border=\"1\" class=\"dataframe\">\n",
       "  <thead>\n",
       "    <tr style=\"text-align: right;\">\n",
       "      <th></th>\n",
       "      <th>learning_rate</th>\n",
       "      <th>model</th>\n",
       "      <th>accuracy</th>\n",
       "      <th>val_accuracy</th>\n",
       "      <th>kappa_train</th>\n",
       "      <th>kappa_test</th>\n",
       "      <th>epoch</th>\n",
       "      <th>trade_off</th>\n",
       "    </tr>\n",
       "  </thead>\n",
       "  <tbody>\n",
       "    <tr>\n",
       "      <th>0</th>\n",
       "      <td>0.000464</td>\n",
       "      <td>&lt;keras.engine.sequential.Sequential object at ...</td>\n",
       "      <td>0.946078</td>\n",
       "      <td>0.974026</td>\n",
       "      <td>0.967825</td>\n",
       "      <td>0.890060</td>\n",
       "      <td>80</td>\n",
       "      <td>0.077765</td>\n",
       "    </tr>\n",
       "    <tr>\n",
       "      <th>1</th>\n",
       "      <td>0.000681</td>\n",
       "      <td>&lt;keras.engine.sequential.Sequential object at ...</td>\n",
       "      <td>0.985294</td>\n",
       "      <td>0.980519</td>\n",
       "      <td>0.991242</td>\n",
       "      <td>0.933702</td>\n",
       "      <td>80</td>\n",
       "      <td>0.057540</td>\n",
       "    </tr>\n",
       "    <tr>\n",
       "      <th>2</th>\n",
       "      <td>0.001000</td>\n",
       "      <td>&lt;keras.engine.sequential.Sequential object at ...</td>\n",
       "      <td>0.988562</td>\n",
       "      <td>1.000000</td>\n",
       "      <td>0.997081</td>\n",
       "      <td>0.955576</td>\n",
       "      <td>69</td>\n",
       "      <td>0.041504</td>\n",
       "    </tr>\n",
       "    <tr>\n",
       "      <th>3</th>\n",
       "      <td>0.001468</td>\n",
       "      <td>&lt;keras.engine.sequential.Sequential object at ...</td>\n",
       "      <td>0.985294</td>\n",
       "      <td>0.993506</td>\n",
       "      <td>0.997081</td>\n",
       "      <td>0.933364</td>\n",
       "      <td>61</td>\n",
       "      <td>0.063716</td>\n",
       "    </tr>\n",
       "    <tr>\n",
       "      <th>4</th>\n",
       "      <td>0.002154</td>\n",
       "      <td>&lt;keras.engine.sequential.Sequential object at ...</td>\n",
       "      <td>0.986928</td>\n",
       "      <td>0.987013</td>\n",
       "      <td>0.991242</td>\n",
       "      <td>0.933702</td>\n",
       "      <td>32</td>\n",
       "      <td>0.057540</td>\n",
       "    </tr>\n",
       "    <tr>\n",
       "      <th>5</th>\n",
       "      <td>0.003162</td>\n",
       "      <td>&lt;keras.engine.sequential.Sequential object at ...</td>\n",
       "      <td>0.983660</td>\n",
       "      <td>0.987013</td>\n",
       "      <td>0.991242</td>\n",
       "      <td>0.956024</td>\n",
       "      <td>31</td>\n",
       "      <td>0.035218</td>\n",
       "    </tr>\n",
       "    <tr>\n",
       "      <th>6</th>\n",
       "      <td>0.004642</td>\n",
       "      <td>&lt;keras.engine.sequential.Sequential object at ...</td>\n",
       "      <td>0.977124</td>\n",
       "      <td>1.000000</td>\n",
       "      <td>0.997075</td>\n",
       "      <td>0.978122</td>\n",
       "      <td>26</td>\n",
       "      <td>0.018953</td>\n",
       "    </tr>\n",
       "    <tr>\n",
       "      <th>7</th>\n",
       "      <td>0.006813</td>\n",
       "      <td>&lt;keras.engine.sequential.Sequential object at ...</td>\n",
       "      <td>0.980392</td>\n",
       "      <td>0.967532</td>\n",
       "      <td>0.982399</td>\n",
       "      <td>0.933364</td>\n",
       "      <td>32</td>\n",
       "      <td>0.049035</td>\n",
       "    </tr>\n",
       "    <tr>\n",
       "      <th>8</th>\n",
       "      <td>0.010000</td>\n",
       "      <td>&lt;keras.engine.sequential.Sequential object at ...</td>\n",
       "      <td>0.957516</td>\n",
       "      <td>0.974026</td>\n",
       "      <td>0.985375</td>\n",
       "      <td>0.878144</td>\n",
       "      <td>17</td>\n",
       "      <td>0.107230</td>\n",
       "    </tr>\n",
       "    <tr>\n",
       "      <th>9</th>\n",
       "      <td>0.014678</td>\n",
       "      <td>&lt;keras.engine.sequential.Sequential object at ...</td>\n",
       "      <td>0.975490</td>\n",
       "      <td>0.987013</td>\n",
       "      <td>0.979486</td>\n",
       "      <td>0.921660</td>\n",
       "      <td>24</td>\n",
       "      <td>0.057826</td>\n",
       "    </tr>\n",
       "    <tr>\n",
       "      <th>10</th>\n",
       "      <td>0.021544</td>\n",
       "      <td>&lt;keras.engine.sequential.Sequential object at ...</td>\n",
       "      <td>0.962418</td>\n",
       "      <td>0.987013</td>\n",
       "      <td>0.979603</td>\n",
       "      <td>0.945168</td>\n",
       "      <td>24</td>\n",
       "      <td>0.034435</td>\n",
       "    </tr>\n",
       "    <tr>\n",
       "      <th>11</th>\n",
       "      <td>0.031623</td>\n",
       "      <td>&lt;keras.engine.sequential.Sequential object at ...</td>\n",
       "      <td>0.949346</td>\n",
       "      <td>1.000000</td>\n",
       "      <td>0.976442</td>\n",
       "      <td>0.933364</td>\n",
       "      <td>39</td>\n",
       "      <td>0.043078</td>\n",
       "    </tr>\n",
       "    <tr>\n",
       "      <th>12</th>\n",
       "      <td>0.046416</td>\n",
       "      <td>&lt;keras.engine.sequential.Sequential object at ...</td>\n",
       "      <td>0.957516</td>\n",
       "      <td>0.987013</td>\n",
       "      <td>0.946995</td>\n",
       "      <td>0.933702</td>\n",
       "      <td>23</td>\n",
       "      <td>0.013294</td>\n",
       "    </tr>\n",
       "    <tr>\n",
       "      <th>13</th>\n",
       "      <td>0.068129</td>\n",
       "      <td>&lt;keras.engine.sequential.Sequential object at ...</td>\n",
       "      <td>0.947712</td>\n",
       "      <td>0.987013</td>\n",
       "      <td>0.973624</td>\n",
       "      <td>0.944328</td>\n",
       "      <td>32</td>\n",
       "      <td>0.029296</td>\n",
       "    </tr>\n",
       "    <tr>\n",
       "      <th>14</th>\n",
       "      <td>0.100000</td>\n",
       "      <td>&lt;keras.engine.sequential.Sequential object at ...</td>\n",
       "      <td>0.802288</td>\n",
       "      <td>0.818182</td>\n",
       "      <td>0.679604</td>\n",
       "      <td>0.631769</td>\n",
       "      <td>28</td>\n",
       "      <td>0.047835</td>\n",
       "    </tr>\n",
       "    <tr>\n",
       "      <th>15</th>\n",
       "      <td>0.146780</td>\n",
       "      <td>&lt;keras.engine.sequential.Sequential object at ...</td>\n",
       "      <td>0.638889</td>\n",
       "      <td>0.655844</td>\n",
       "      <td>0.000000</td>\n",
       "      <td>0.000000</td>\n",
       "      <td>8</td>\n",
       "      <td>0.000000</td>\n",
       "    </tr>\n",
       "  </tbody>\n",
       "</table>\n",
       "</div>"
      ],
      "text/plain": [
       "    learning_rate                                              model  \\\n",
       "0        0.000464  <keras.engine.sequential.Sequential object at ...   \n",
       "1        0.000681  <keras.engine.sequential.Sequential object at ...   \n",
       "2        0.001000  <keras.engine.sequential.Sequential object at ...   \n",
       "3        0.001468  <keras.engine.sequential.Sequential object at ...   \n",
       "4        0.002154  <keras.engine.sequential.Sequential object at ...   \n",
       "5        0.003162  <keras.engine.sequential.Sequential object at ...   \n",
       "6        0.004642  <keras.engine.sequential.Sequential object at ...   \n",
       "7        0.006813  <keras.engine.sequential.Sequential object at ...   \n",
       "8        0.010000  <keras.engine.sequential.Sequential object at ...   \n",
       "9        0.014678  <keras.engine.sequential.Sequential object at ...   \n",
       "10       0.021544  <keras.engine.sequential.Sequential object at ...   \n",
       "11       0.031623  <keras.engine.sequential.Sequential object at ...   \n",
       "12       0.046416  <keras.engine.sequential.Sequential object at ...   \n",
       "13       0.068129  <keras.engine.sequential.Sequential object at ...   \n",
       "14       0.100000  <keras.engine.sequential.Sequential object at ...   \n",
       "15       0.146780  <keras.engine.sequential.Sequential object at ...   \n",
       "\n",
       "    accuracy  val_accuracy  kappa_train  kappa_test  epoch  trade_off  \n",
       "0   0.946078      0.974026     0.967825    0.890060     80   0.077765  \n",
       "1   0.985294      0.980519     0.991242    0.933702     80   0.057540  \n",
       "2   0.988562      1.000000     0.997081    0.955576     69   0.041504  \n",
       "3   0.985294      0.993506     0.997081    0.933364     61   0.063716  \n",
       "4   0.986928      0.987013     0.991242    0.933702     32   0.057540  \n",
       "5   0.983660      0.987013     0.991242    0.956024     31   0.035218  \n",
       "6   0.977124      1.000000     0.997075    0.978122     26   0.018953  \n",
       "7   0.980392      0.967532     0.982399    0.933364     32   0.049035  \n",
       "8   0.957516      0.974026     0.985375    0.878144     17   0.107230  \n",
       "9   0.975490      0.987013     0.979486    0.921660     24   0.057826  \n",
       "10  0.962418      0.987013     0.979603    0.945168     24   0.034435  \n",
       "11  0.949346      1.000000     0.976442    0.933364     39   0.043078  \n",
       "12  0.957516      0.987013     0.946995    0.933702     23   0.013294  \n",
       "13  0.947712      0.987013     0.973624    0.944328     32   0.029296  \n",
       "14  0.802288      0.818182     0.679604    0.631769     28   0.047835  \n",
       "15  0.638889      0.655844     0.000000    0.000000      8   0.000000  "
      ]
     },
     "execution_count": 187,
     "metadata": {},
     "output_type": "execute_result"
    }
   ],
   "source": [
    "lr_selection_df"
   ]
  },
  {
   "cell_type": "code",
   "execution_count": null,
   "metadata": {},
   "outputs": [],
   "source": [
    "# Question\n",
    "# ??? Does the following curve has any sense in relation to trade-off variance. Overfitting??"
   ]
  },
  {
   "cell_type": "code",
   "execution_count": 198,
   "metadata": {},
   "outputs": [
    {
     "data": {
      "image/png": "[encoded data removed]",
      "text/plain": [
       "<Figure size 432x288 with 1 Axes>"
      ]
     },
     "metadata": {
      "needs_background": "light"
     },
     "output_type": "display_data"
    }
   ],
   "source": [
    "plt.plot(lr_selection_df.learning_rate[:14], lr_selection_df.kappa_train[:14], 'b', marker='o')\n",
    "plt.plot(lr_selection_df.learning_rate[:14], lr_selection_df.kappa_test[:14], 'g', marker='o')\n",
    "plt.show()"
   ]
  },
  {
   "cell_type": "code",
   "execution_count": 196,
   "metadata": {},
   "outputs": [
    {
     "data": {
      "image/png": "[encoded data removed]",
      "text/plain": [
       "<Figure size 432x288 with 1 Axes>"
      ]
     },
     "metadata": {
      "needs_background": "light"
     },
     "output_type": "display_data"
    }
   ],
   "source": [
    "plt.plot(lr_selection_df.learning_rate[:10], lr_selection_df.kappa_train[:10], 'b', marker='o')\n",
    "plt.plot(lr_selection_df.learning_rate[:10], lr_selection_df.kappa_test[:10], 'g', marker='o')\n",
    "plt.show()"
   ]
  },
  {
   "cell_type": "code",
   "execution_count": 195,
   "metadata": {},
   "outputs": [
    {
     "data": {
      "text/html": [
       "<div>\n",
       "<style scoped>\n",
       "    .dataframe tbody tr th:only-of-type {\n",
       "        vertical-align: middle;\n",
       "    }\n",
       "\n",
       "    .dataframe tbody tr th {\n",
       "        vertical-align: top;\n",
       "    }\n",
       "\n",
       "    .dataframe thead th {\n",
       "        text-align: right;\n",
       "    }\n",
       "</style>\n",
       "<table border=\"1\" class=\"dataframe\">\n",
       "  <thead>\n",
       "    <tr style=\"text-align: right;\">\n",
       "      <th></th>\n",
       "      <th>learning_rate</th>\n",
       "      <th>model</th>\n",
       "      <th>accuracy</th>\n",
       "      <th>val_accuracy</th>\n",
       "      <th>kappa_train</th>\n",
       "      <th>kappa_test</th>\n",
       "      <th>epoch</th>\n",
       "      <th>trade_off</th>\n",
       "    </tr>\n",
       "  </thead>\n",
       "  <tbody>\n",
       "    <tr>\n",
       "      <th>6</th>\n",
       "      <td>0.004642</td>\n",
       "      <td>&lt;keras.engine.sequential.Sequential object at ...</td>\n",
       "      <td>0.977124</td>\n",
       "      <td>1.000000</td>\n",
       "      <td>0.997075</td>\n",
       "      <td>0.978122</td>\n",
       "      <td>26</td>\n",
       "      <td>0.018953</td>\n",
       "    </tr>\n",
       "    <tr>\n",
       "      <th>5</th>\n",
       "      <td>0.003162</td>\n",
       "      <td>&lt;keras.engine.sequential.Sequential object at ...</td>\n",
       "      <td>0.983660</td>\n",
       "      <td>0.987013</td>\n",
       "      <td>0.991242</td>\n",
       "      <td>0.956024</td>\n",
       "      <td>31</td>\n",
       "      <td>0.035218</td>\n",
       "    </tr>\n",
       "    <tr>\n",
       "      <th>2</th>\n",
       "      <td>0.001000</td>\n",
       "      <td>&lt;keras.engine.sequential.Sequential object at ...</td>\n",
       "      <td>0.988562</td>\n",
       "      <td>1.000000</td>\n",
       "      <td>0.997081</td>\n",
       "      <td>0.955576</td>\n",
       "      <td>69</td>\n",
       "      <td>0.041504</td>\n",
       "    </tr>\n",
       "    <tr>\n",
       "      <th>7</th>\n",
       "      <td>0.006813</td>\n",
       "      <td>&lt;keras.engine.sequential.Sequential object at ...</td>\n",
       "      <td>0.980392</td>\n",
       "      <td>0.967532</td>\n",
       "      <td>0.982399</td>\n",
       "      <td>0.933364</td>\n",
       "      <td>32</td>\n",
       "      <td>0.049035</td>\n",
       "    </tr>\n",
       "    <tr>\n",
       "      <th>1</th>\n",
       "      <td>0.000681</td>\n",
       "      <td>&lt;keras.engine.sequential.Sequential object at ...</td>\n",
       "      <td>0.985294</td>\n",
       "      <td>0.980519</td>\n",
       "      <td>0.991242</td>\n",
       "      <td>0.933702</td>\n",
       "      <td>80</td>\n",
       "      <td>0.057540</td>\n",
       "    </tr>\n",
       "    <tr>\n",
       "      <th>4</th>\n",
       "      <td>0.002154</td>\n",
       "      <td>&lt;keras.engine.sequential.Sequential object at ...</td>\n",
       "      <td>0.986928</td>\n",
       "      <td>0.987013</td>\n",
       "      <td>0.991242</td>\n",
       "      <td>0.933702</td>\n",
       "      <td>32</td>\n",
       "      <td>0.057540</td>\n",
       "    </tr>\n",
       "    <tr>\n",
       "      <th>9</th>\n",
       "      <td>0.014678</td>\n",
       "      <td>&lt;keras.engine.sequential.Sequential object at ...</td>\n",
       "      <td>0.975490</td>\n",
       "      <td>0.987013</td>\n",
       "      <td>0.979486</td>\n",
       "      <td>0.921660</td>\n",
       "      <td>24</td>\n",
       "      <td>0.057826</td>\n",
       "    </tr>\n",
       "    <tr>\n",
       "      <th>3</th>\n",
       "      <td>0.001468</td>\n",
       "      <td>&lt;keras.engine.sequential.Sequential object at ...</td>\n",
       "      <td>0.985294</td>\n",
       "      <td>0.993506</td>\n",
       "      <td>0.997081</td>\n",
       "      <td>0.933364</td>\n",
       "      <td>61</td>\n",
       "      <td>0.063716</td>\n",
       "    </tr>\n",
       "    <tr>\n",
       "      <th>0</th>\n",
       "      <td>0.000464</td>\n",
       "      <td>&lt;keras.engine.sequential.Sequential object at ...</td>\n",
       "      <td>0.946078</td>\n",
       "      <td>0.974026</td>\n",
       "      <td>0.967825</td>\n",
       "      <td>0.890060</td>\n",
       "      <td>80</td>\n",
       "      <td>0.077765</td>\n",
       "    </tr>\n",
       "    <tr>\n",
       "      <th>8</th>\n",
       "      <td>0.010000</td>\n",
       "      <td>&lt;keras.engine.sequential.Sequential object at ...</td>\n",
       "      <td>0.957516</td>\n",
       "      <td>0.974026</td>\n",
       "      <td>0.985375</td>\n",
       "      <td>0.878144</td>\n",
       "      <td>17</td>\n",
       "      <td>0.107230</td>\n",
       "    </tr>\n",
       "  </tbody>\n",
       "</table>\n",
       "</div>"
      ],
      "text/plain": [
       "   learning_rate                                              model  accuracy  \\\n",
       "6       0.004642  <keras.engine.sequential.Sequential object at ...  0.977124   \n",
       "5       0.003162  <keras.engine.sequential.Sequential object at ...  0.983660   \n",
       "2       0.001000  <keras.engine.sequential.Sequential object at ...  0.988562   \n",
       "7       0.006813  <keras.engine.sequential.Sequential object at ...  0.980392   \n",
       "1       0.000681  <keras.engine.sequential.Sequential object at ...  0.985294   \n",
       "4       0.002154  <keras.engine.sequential.Sequential object at ...  0.986928   \n",
       "9       0.014678  <keras.engine.sequential.Sequential object at ...  0.975490   \n",
       "3       0.001468  <keras.engine.sequential.Sequential object at ...  0.985294   \n",
       "0       0.000464  <keras.engine.sequential.Sequential object at ...  0.946078   \n",
       "8       0.010000  <keras.engine.sequential.Sequential object at ...  0.957516   \n",
       "\n",
       "   val_accuracy  kappa_train  kappa_test  epoch  trade_off  \n",
       "6      1.000000     0.997075    0.978122     26   0.018953  \n",
       "5      0.987013     0.991242    0.956024     31   0.035218  \n",
       "2      1.000000     0.997081    0.955576     69   0.041504  \n",
       "7      0.967532     0.982399    0.933364     32   0.049035  \n",
       "1      0.980519     0.991242    0.933702     80   0.057540  \n",
       "4      0.987013     0.991242    0.933702     32   0.057540  \n",
       "9      0.987013     0.979486    0.921660     24   0.057826  \n",
       "3      0.993506     0.997081    0.933364     61   0.063716  \n",
       "0      0.974026     0.967825    0.890060     80   0.077765  \n",
       "8      0.974026     0.985375    0.878144     17   0.107230  "
      ]
     },
     "execution_count": 195,
     "metadata": {},
     "output_type": "execute_result"
    }
   ],
   "source": [
    "lr_selection_df.iloc[:10,:].sort_values('trade_off')"
   ]
  },
  {
   "cell_type": "code",
   "execution_count": null,
   "metadata": {},
   "outputs": [],
   "source": []
  },
  {
   "cell_type": "code",
   "execution_count": null,
   "metadata": {},
   "outputs": [],
   "source": []
  },
  {
   "cell_type": "code",
   "execution_count": null,
   "metadata": {},
   "outputs": [],
   "source": []
  },
  {
   "cell_type": "code",
   "execution_count": null,
   "metadata": {},
   "outputs": [],
   "source": []
  },
  {
   "cell_type": "code",
   "execution_count": null,
   "metadata": {},
   "outputs": [],
   "source": []
  },
  {
   "cell_type": "markdown",
   "metadata": {},
   "source": [
    "## **Which approach(es) did you find helpful to improve your model performance?**"
   ]
  },
  {
   "cell_type": "code",
   "execution_count": 199,
   "metadata": {},
   "outputs": [],
   "source": [
    "# First model: Kappa Test: 0.97\n",
    "\n",
    "# Dropout layer: Kappa Test: 0.92\n",
    "\n",
    "# Learning rate selection over dropout: 0.978"
   ]
  },
  {
   "cell_type": "code",
   "execution_count": null,
   "metadata": {},
   "outputs": [],
   "source": []
  }
 ],
 "metadata": {
  "kernelspec": {
   "display_name": "Python 3 (ipykernel)",
   "language": "python",
   "name": "python3"
  },
  "language_info": {
   "codemirror_mode": {
    "name": "ipython",
    "version": 3
   },
   "file_extension": ".py",
   "mimetype": "text/x-python",
   "name": "python",
   "nbconvert_exporter": "python",
   "pygments_lexer": "ipython3",
   "version": "3.9.7"
  },
  "toc": {
   "base_numbering": 1,
   "nav_menu": {},
   "number_sections": true,
   "sideBar": true,
   "skip_h1_title": false,
   "title_cell": "Table of Contents",
   "title_sidebar": "Contents",
   "toc_cell": false,
   "toc_position": {},
   "toc_section_display": true,
   "toc_window_display": true
  },
  "varInspector": {
   "cols": {
    "lenName": 16,
    "lenType": 16,
    "lenVar": 40
   },
   "kernels_config": {
    "python": {
     "delete_cmd_postfix": "",
     "delete_cmd_prefix": "del ",
     "library": "var_list.py",
     "varRefreshCmd": "print(var_dic_list())"
    },
    "r": {
     "delete_cmd_postfix": ") ",
     "delete_cmd_prefix": "rm(",
     "library": "var_list.r",
     "varRefreshCmd": "cat(var_dic_list()) "
    }
   },
   "oldHeight": 593.844,
   "position": {
    "height": "40px",
    "left": "141px",
    "right": "20px",
    "top": "29px",
    "width": "593px"
   },
   "types_to_exclude": [
    "module",
    "function",
    "builtin_function_or_method",
    "instance",
    "_Feature"
   ],
   "varInspector_section_display": "none",
   "window_display": true
  }
 },
 "nbformat": 4,
 "nbformat_minor": 2
}
